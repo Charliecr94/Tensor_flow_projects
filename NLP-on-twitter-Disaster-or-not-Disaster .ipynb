{
  "nbformat": 4,
  "nbformat_minor": 0,
  "metadata": {
    "colab": {
      "provenance": []
    },
    "kernelspec": {
      "name": "python3",
      "display_name": "Python 3"
    },
    "language_info": {
      "name": "python"
    },
    "accelerator": "GPU",
    "gpuClass": "standard"
  },
  "cells": [
    {
      "cell_type": "markdown",
      "source": [
        "# Introduction to NLP Fundamentals in tensorflow for this project.\n",
        "\n",
        "In this colab we'll be using a dataset from Kaggle that has text samples of Tweets labelled as diaster or not diaster.\n",
        "\n",
        "The real Tweets are actually about disasters,  for example:\n",
        "\n",
        "\n",
        "    Jetstar and Virgin forced to cancel Bali flights again because of ash from Mount Raung volcano*\n",
        "\n",
        "\n",
        "The NOT real Tweets are Tweets not about disasters (they can be on anything), for example:\n",
        "\n",
        "\n",
        "    'Education is the most powerful weapon which you can use to change the world.' Nelson #Mandela #quote\n",
        "\n",
        "\n",
        "See the original source here: https://www.kaggle.com/c/nlp-getting-started/data.\n",
        "\n",
        "## Imports and Helper Fuctions\n",
        "\n",
        "```\n",
        "!wget https://raw.githubusercontent.com/Charliecr94/Tensor_flow_projects/main/Extras/helper_functions.py\n",
        "from helper_functions import unzip_data, create_tensorboard_callback, plot_loss_curves, compare_historys\n",
        "\n",
        "```\n",
        "\n",
        "## Download a text dataset\n",
        "```\n",
        "# Download data.\n",
        "!wget \"https://storage.googleapis.com/ztm_tf_course/nlp_getting_started.zip\"\n",
        "\n",
        "# Unzip data\n",
        "unzip_data(\"nlp_getting_started.zip\")\n",
        "``` \n",
        "\n"
      ],
      "metadata": {
        "id": "Sr_ZldPNrO80"
      }
    },
    {
      "cell_type": "code",
      "source": [
        "!wget https://raw.githubusercontent.com/Charliecr94/Tensor_flow_projects/main/Extras/helper_functions.py\n",
        "from helper_functions import unzip_data, create_tensorboard_callback, plot_loss_curves, compare_historys\n",
        "# Download data.\n",
        "!wget \"https://storage.googleapis.com/ztm_tf_course/nlp_getting_started.zip\"\n",
        "\n",
        "# Unzip data\n",
        "unzip_data(\"nlp_getting_started.zip\")"
      ],
      "metadata": {
        "colab": {
          "base_uri": "https://localhost:8080/"
        },
        "id": "TCwyU5njhIv2",
        "outputId": "7cf0fd60-2a81-4c88-b959-e3f033ac0657"
      },
      "execution_count": 1,
      "outputs": [
        {
          "output_type": "stream",
          "name": "stdout",
          "text": [
            "--2023-03-05 00:41:45--  https://raw.githubusercontent.com/Charliecr94/Tensor_flow_projects/main/Extras/helper_functions.py\n",
            "Resolving raw.githubusercontent.com (raw.githubusercontent.com)... 185.199.108.133, 185.199.109.133, 185.199.110.133, ...\n",
            "Connecting to raw.githubusercontent.com (raw.githubusercontent.com)|185.199.108.133|:443... connected.\n",
            "HTTP request sent, awaiting response... 200 OK\n",
            "Length: 10234 (10.0K) [text/plain]\n",
            "Saving to: ‘helper_functions.py’\n",
            "\n",
            "helper_functions.py 100%[===================>]   9.99K  --.-KB/s    in 0s      \n",
            "\n",
            "2023-03-05 00:41:45 (55.8 MB/s) - ‘helper_functions.py’ saved [10234/10234]\n",
            "\n",
            "--2023-03-05 00:41:57--  https://storage.googleapis.com/ztm_tf_course/nlp_getting_started.zip\n",
            "Resolving storage.googleapis.com (storage.googleapis.com)... 142.250.152.128, 142.250.128.128, 142.251.6.128, ...\n",
            "Connecting to storage.googleapis.com (storage.googleapis.com)|142.250.152.128|:443... connected.\n",
            "HTTP request sent, awaiting response... 200 OK\n",
            "Length: 607343 (593K) [application/zip]\n",
            "Saving to: ‘nlp_getting_started.zip’\n",
            "\n",
            "nlp_getting_started 100%[===================>] 593.11K  --.-KB/s    in 0.005s  \n",
            "\n",
            "2023-03-05 00:41:57 (110 MB/s) - ‘nlp_getting_started.zip’ saved [607343/607343]\n",
            "\n"
          ]
        }
      ]
    },
    {
      "cell_type": "markdown",
      "source": [
        "# 1. Get the Data ready"
      ],
      "metadata": {
        "id": "4Q3MBqP96HZk"
      }
    },
    {
      "cell_type": "markdown",
      "source": [
        "### Exploring the dataset."
      ],
      "metadata": {
        "id": "Ki6oWqGmWA2y"
      }
    },
    {
      "cell_type": "code",
      "source": [
        "import pandas as pd\n",
        "import numpy as np\n",
        "train_df = pd.read_csv(\"train.csv\")\n",
        "test_df = pd.read_csv(\"train.csv\")\n",
        "train_df.head()"
      ],
      "metadata": {
        "colab": {
          "base_uri": "https://localhost:8080/",
          "height": 206
        },
        "id": "wmXiIBrr6UBZ",
        "outputId": "50794620-67b6-41f5-a32d-ae28c05e39e0"
      },
      "execution_count": 2,
      "outputs": [
        {
          "output_type": "execute_result",
          "data": {
            "text/plain": [
              "   id keyword location                                               text  \\\n",
              "0   1     NaN      NaN  Our Deeds are the Reason of this #earthquake M...   \n",
              "1   4     NaN      NaN             Forest fire near La Ronge Sask. Canada   \n",
              "2   5     NaN      NaN  All residents asked to 'shelter in place' are ...   \n",
              "3   6     NaN      NaN  13,000 people receive #wildfires evacuation or...   \n",
              "4   7     NaN      NaN  Just got sent this photo from Ruby #Alaska as ...   \n",
              "\n",
              "   target  \n",
              "0       1  \n",
              "1       1  \n",
              "2       1  \n",
              "3       1  \n",
              "4       1  "
            ],
            "text/html": [
              "\n",
              "  <div id=\"df-1ffe3acf-9b64-47a3-8c98-5bbc561f95d5\">\n",
              "    <div class=\"colab-df-container\">\n",
              "      <div>\n",
              "<style scoped>\n",
              "    .dataframe tbody tr th:only-of-type {\n",
              "        vertical-align: middle;\n",
              "    }\n",
              "\n",
              "    .dataframe tbody tr th {\n",
              "        vertical-align: top;\n",
              "    }\n",
              "\n",
              "    .dataframe thead th {\n",
              "        text-align: right;\n",
              "    }\n",
              "</style>\n",
              "<table border=\"1\" class=\"dataframe\">\n",
              "  <thead>\n",
              "    <tr style=\"text-align: right;\">\n",
              "      <th></th>\n",
              "      <th>id</th>\n",
              "      <th>keyword</th>\n",
              "      <th>location</th>\n",
              "      <th>text</th>\n",
              "      <th>target</th>\n",
              "    </tr>\n",
              "  </thead>\n",
              "  <tbody>\n",
              "    <tr>\n",
              "      <th>0</th>\n",
              "      <td>1</td>\n",
              "      <td>NaN</td>\n",
              "      <td>NaN</td>\n",
              "      <td>Our Deeds are the Reason of this #earthquake M...</td>\n",
              "      <td>1</td>\n",
              "    </tr>\n",
              "    <tr>\n",
              "      <th>1</th>\n",
              "      <td>4</td>\n",
              "      <td>NaN</td>\n",
              "      <td>NaN</td>\n",
              "      <td>Forest fire near La Ronge Sask. Canada</td>\n",
              "      <td>1</td>\n",
              "    </tr>\n",
              "    <tr>\n",
              "      <th>2</th>\n",
              "      <td>5</td>\n",
              "      <td>NaN</td>\n",
              "      <td>NaN</td>\n",
              "      <td>All residents asked to 'shelter in place' are ...</td>\n",
              "      <td>1</td>\n",
              "    </tr>\n",
              "    <tr>\n",
              "      <th>3</th>\n",
              "      <td>6</td>\n",
              "      <td>NaN</td>\n",
              "      <td>NaN</td>\n",
              "      <td>13,000 people receive #wildfires evacuation or...</td>\n",
              "      <td>1</td>\n",
              "    </tr>\n",
              "    <tr>\n",
              "      <th>4</th>\n",
              "      <td>7</td>\n",
              "      <td>NaN</td>\n",
              "      <td>NaN</td>\n",
              "      <td>Just got sent this photo from Ruby #Alaska as ...</td>\n",
              "      <td>1</td>\n",
              "    </tr>\n",
              "  </tbody>\n",
              "</table>\n",
              "</div>\n",
              "      <button class=\"colab-df-convert\" onclick=\"convertToInteractive('df-1ffe3acf-9b64-47a3-8c98-5bbc561f95d5')\"\n",
              "              title=\"Convert this dataframe to an interactive table.\"\n",
              "              style=\"display:none;\">\n",
              "        \n",
              "  <svg xmlns=\"http://www.w3.org/2000/svg\" height=\"24px\"viewBox=\"0 0 24 24\"\n",
              "       width=\"24px\">\n",
              "    <path d=\"M0 0h24v24H0V0z\" fill=\"none\"/>\n",
              "    <path d=\"M18.56 5.44l.94 2.06.94-2.06 2.06-.94-2.06-.94-.94-2.06-.94 2.06-2.06.94zm-11 1L8.5 8.5l.94-2.06 2.06-.94-2.06-.94L8.5 2.5l-.94 2.06-2.06.94zm10 10l.94 2.06.94-2.06 2.06-.94-2.06-.94-.94-2.06-.94 2.06-2.06.94z\"/><path d=\"M17.41 7.96l-1.37-1.37c-.4-.4-.92-.59-1.43-.59-.52 0-1.04.2-1.43.59L10.3 9.45l-7.72 7.72c-.78.78-.78 2.05 0 2.83L4 21.41c.39.39.9.59 1.41.59.51 0 1.02-.2 1.41-.59l7.78-7.78 2.81-2.81c.8-.78.8-2.07 0-2.86zM5.41 20L4 18.59l7.72-7.72 1.47 1.35L5.41 20z\"/>\n",
              "  </svg>\n",
              "      </button>\n",
              "      \n",
              "  <style>\n",
              "    .colab-df-container {\n",
              "      display:flex;\n",
              "      flex-wrap:wrap;\n",
              "      gap: 12px;\n",
              "    }\n",
              "\n",
              "    .colab-df-convert {\n",
              "      background-color: #E8F0FE;\n",
              "      border: none;\n",
              "      border-radius: 50%;\n",
              "      cursor: pointer;\n",
              "      display: none;\n",
              "      fill: #1967D2;\n",
              "      height: 32px;\n",
              "      padding: 0 0 0 0;\n",
              "      width: 32px;\n",
              "    }\n",
              "\n",
              "    .colab-df-convert:hover {\n",
              "      background-color: #E2EBFA;\n",
              "      box-shadow: 0px 1px 2px rgba(60, 64, 67, 0.3), 0px 1px 3px 1px rgba(60, 64, 67, 0.15);\n",
              "      fill: #174EA6;\n",
              "    }\n",
              "\n",
              "    [theme=dark] .colab-df-convert {\n",
              "      background-color: #3B4455;\n",
              "      fill: #D2E3FC;\n",
              "    }\n",
              "\n",
              "    [theme=dark] .colab-df-convert:hover {\n",
              "      background-color: #434B5C;\n",
              "      box-shadow: 0px 1px 3px 1px rgba(0, 0, 0, 0.15);\n",
              "      filter: drop-shadow(0px 1px 2px rgba(0, 0, 0, 0.3));\n",
              "      fill: #FFFFFF;\n",
              "    }\n",
              "  </style>\n",
              "\n",
              "      <script>\n",
              "        const buttonEl =\n",
              "          document.querySelector('#df-1ffe3acf-9b64-47a3-8c98-5bbc561f95d5 button.colab-df-convert');\n",
              "        buttonEl.style.display =\n",
              "          google.colab.kernel.accessAllowed ? 'block' : 'none';\n",
              "\n",
              "        async function convertToInteractive(key) {\n",
              "          const element = document.querySelector('#df-1ffe3acf-9b64-47a3-8c98-5bbc561f95d5');\n",
              "          const dataTable =\n",
              "            await google.colab.kernel.invokeFunction('convertToInteractive',\n",
              "                                                     [key], {});\n",
              "          if (!dataTable) return;\n",
              "\n",
              "          const docLinkHtml = 'Like what you see? Visit the ' +\n",
              "            '<a target=\"_blank\" href=https://colab.research.google.com/notebooks/data_table.ipynb>data table notebook</a>'\n",
              "            + ' to learn more about interactive tables.';\n",
              "          element.innerHTML = '';\n",
              "          dataTable['output_type'] = 'display_data';\n",
              "          await google.colab.output.renderOutput(dataTable, element);\n",
              "          const docLink = document.createElement('div');\n",
              "          docLink.innerHTML = docLinkHtml;\n",
              "          element.appendChild(docLink);\n",
              "        }\n",
              "      </script>\n",
              "    </div>\n",
              "  </div>\n",
              "  "
            ]
          },
          "metadata": {},
          "execution_count": 2
        }
      ]
    },
    {
      "cell_type": "code",
      "source": [
        "# Shuffle training datafram\n",
        "train_df_shuffled = train_df.sample(frac=1, random_state=42)\n",
        "train_df_shuffled.head()"
      ],
      "metadata": {
        "colab": {
          "base_uri": "https://localhost:8080/",
          "height": 206
        },
        "id": "svT3zZ_ZH4Aj",
        "outputId": "da576275-7a52-413b-88f2-7073d8d8463a"
      },
      "execution_count": 3,
      "outputs": [
        {
          "output_type": "execute_result",
          "data": {
            "text/plain": [
              "        id      keyword               location  \\\n",
              "2644  3796  destruction                    NaN   \n",
              "2227  3185       deluge                    NaN   \n",
              "5448  7769       police                     UK   \n",
              "132    191   aftershock                    NaN   \n",
              "6845  9810       trauma  Montgomery County, MD   \n",
              "\n",
              "                                                   text  target  \n",
              "2644  So you have a new weapon that can cause un-ima...       1  \n",
              "2227  The f$&amp;@ing things I do for #GISHWHES Just...       0  \n",
              "5448  DT @georgegalloway: RT @Galloway4Mayor: ÛÏThe...       1  \n",
              "132   Aftershock back to school kick off was great. ...       0  \n",
              "6845  in response to trauma Children of Addicts deve...       0  "
            ],
            "text/html": [
              "\n",
              "  <div id=\"df-630e1e1b-1e32-4d86-8006-9806bcbbc568\">\n",
              "    <div class=\"colab-df-container\">\n",
              "      <div>\n",
              "<style scoped>\n",
              "    .dataframe tbody tr th:only-of-type {\n",
              "        vertical-align: middle;\n",
              "    }\n",
              "\n",
              "    .dataframe tbody tr th {\n",
              "        vertical-align: top;\n",
              "    }\n",
              "\n",
              "    .dataframe thead th {\n",
              "        text-align: right;\n",
              "    }\n",
              "</style>\n",
              "<table border=\"1\" class=\"dataframe\">\n",
              "  <thead>\n",
              "    <tr style=\"text-align: right;\">\n",
              "      <th></th>\n",
              "      <th>id</th>\n",
              "      <th>keyword</th>\n",
              "      <th>location</th>\n",
              "      <th>text</th>\n",
              "      <th>target</th>\n",
              "    </tr>\n",
              "  </thead>\n",
              "  <tbody>\n",
              "    <tr>\n",
              "      <th>2644</th>\n",
              "      <td>3796</td>\n",
              "      <td>destruction</td>\n",
              "      <td>NaN</td>\n",
              "      <td>So you have a new weapon that can cause un-ima...</td>\n",
              "      <td>1</td>\n",
              "    </tr>\n",
              "    <tr>\n",
              "      <th>2227</th>\n",
              "      <td>3185</td>\n",
              "      <td>deluge</td>\n",
              "      <td>NaN</td>\n",
              "      <td>The f$&amp;amp;@ing things I do for #GISHWHES Just...</td>\n",
              "      <td>0</td>\n",
              "    </tr>\n",
              "    <tr>\n",
              "      <th>5448</th>\n",
              "      <td>7769</td>\n",
              "      <td>police</td>\n",
              "      <td>UK</td>\n",
              "      <td>DT @georgegalloway: RT @Galloway4Mayor: ÛÏThe...</td>\n",
              "      <td>1</td>\n",
              "    </tr>\n",
              "    <tr>\n",
              "      <th>132</th>\n",
              "      <td>191</td>\n",
              "      <td>aftershock</td>\n",
              "      <td>NaN</td>\n",
              "      <td>Aftershock back to school kick off was great. ...</td>\n",
              "      <td>0</td>\n",
              "    </tr>\n",
              "    <tr>\n",
              "      <th>6845</th>\n",
              "      <td>9810</td>\n",
              "      <td>trauma</td>\n",
              "      <td>Montgomery County, MD</td>\n",
              "      <td>in response to trauma Children of Addicts deve...</td>\n",
              "      <td>0</td>\n",
              "    </tr>\n",
              "  </tbody>\n",
              "</table>\n",
              "</div>\n",
              "      <button class=\"colab-df-convert\" onclick=\"convertToInteractive('df-630e1e1b-1e32-4d86-8006-9806bcbbc568')\"\n",
              "              title=\"Convert this dataframe to an interactive table.\"\n",
              "              style=\"display:none;\">\n",
              "        \n",
              "  <svg xmlns=\"http://www.w3.org/2000/svg\" height=\"24px\"viewBox=\"0 0 24 24\"\n",
              "       width=\"24px\">\n",
              "    <path d=\"M0 0h24v24H0V0z\" fill=\"none\"/>\n",
              "    <path d=\"M18.56 5.44l.94 2.06.94-2.06 2.06-.94-2.06-.94-.94-2.06-.94 2.06-2.06.94zm-11 1L8.5 8.5l.94-2.06 2.06-.94-2.06-.94L8.5 2.5l-.94 2.06-2.06.94zm10 10l.94 2.06.94-2.06 2.06-.94-2.06-.94-.94-2.06-.94 2.06-2.06.94z\"/><path d=\"M17.41 7.96l-1.37-1.37c-.4-.4-.92-.59-1.43-.59-.52 0-1.04.2-1.43.59L10.3 9.45l-7.72 7.72c-.78.78-.78 2.05 0 2.83L4 21.41c.39.39.9.59 1.41.59.51 0 1.02-.2 1.41-.59l7.78-7.78 2.81-2.81c.8-.78.8-2.07 0-2.86zM5.41 20L4 18.59l7.72-7.72 1.47 1.35L5.41 20z\"/>\n",
              "  </svg>\n",
              "      </button>\n",
              "      \n",
              "  <style>\n",
              "    .colab-df-container {\n",
              "      display:flex;\n",
              "      flex-wrap:wrap;\n",
              "      gap: 12px;\n",
              "    }\n",
              "\n",
              "    .colab-df-convert {\n",
              "      background-color: #E8F0FE;\n",
              "      border: none;\n",
              "      border-radius: 50%;\n",
              "      cursor: pointer;\n",
              "      display: none;\n",
              "      fill: #1967D2;\n",
              "      height: 32px;\n",
              "      padding: 0 0 0 0;\n",
              "      width: 32px;\n",
              "    }\n",
              "\n",
              "    .colab-df-convert:hover {\n",
              "      background-color: #E2EBFA;\n",
              "      box-shadow: 0px 1px 2px rgba(60, 64, 67, 0.3), 0px 1px 3px 1px rgba(60, 64, 67, 0.15);\n",
              "      fill: #174EA6;\n",
              "    }\n",
              "\n",
              "    [theme=dark] .colab-df-convert {\n",
              "      background-color: #3B4455;\n",
              "      fill: #D2E3FC;\n",
              "    }\n",
              "\n",
              "    [theme=dark] .colab-df-convert:hover {\n",
              "      background-color: #434B5C;\n",
              "      box-shadow: 0px 1px 3px 1px rgba(0, 0, 0, 0.15);\n",
              "      filter: drop-shadow(0px 1px 2px rgba(0, 0, 0, 0.3));\n",
              "      fill: #FFFFFF;\n",
              "    }\n",
              "  </style>\n",
              "\n",
              "      <script>\n",
              "        const buttonEl =\n",
              "          document.querySelector('#df-630e1e1b-1e32-4d86-8006-9806bcbbc568 button.colab-df-convert');\n",
              "        buttonEl.style.display =\n",
              "          google.colab.kernel.accessAllowed ? 'block' : 'none';\n",
              "\n",
              "        async function convertToInteractive(key) {\n",
              "          const element = document.querySelector('#df-630e1e1b-1e32-4d86-8006-9806bcbbc568');\n",
              "          const dataTable =\n",
              "            await google.colab.kernel.invokeFunction('convertToInteractive',\n",
              "                                                     [key], {});\n",
              "          if (!dataTable) return;\n",
              "\n",
              "          const docLinkHtml = 'Like what you see? Visit the ' +\n",
              "            '<a target=\"_blank\" href=https://colab.research.google.com/notebooks/data_table.ipynb>data table notebook</a>'\n",
              "            + ' to learn more about interactive tables.';\n",
              "          element.innerHTML = '';\n",
              "          dataTable['output_type'] = 'display_data';\n",
              "          await google.colab.output.renderOutput(dataTable, element);\n",
              "          const docLink = document.createElement('div');\n",
              "          docLink.innerHTML = docLinkHtml;\n",
              "          element.appendChild(docLink);\n",
              "        }\n",
              "      </script>\n",
              "    </div>\n",
              "  </div>\n",
              "  "
            ]
          },
          "metadata": {},
          "execution_count": 3
        }
      ]
    },
    {
      "cell_type": "code",
      "source": [
        "# How many examples of each class?\n",
        "train_df.target.value_counts()"
      ],
      "metadata": {
        "colab": {
          "base_uri": "https://localhost:8080/"
        },
        "id": "tD9MAF23M1vE",
        "outputId": "20878681-79a3-481a-fc87-8077337f81a3"
      },
      "execution_count": 4,
      "outputs": [
        {
          "output_type": "execute_result",
          "data": {
            "text/plain": [
              "0    4342\n",
              "1    3271\n",
              "Name: target, dtype: int64"
            ]
          },
          "metadata": {},
          "execution_count": 4
        }
      ]
    },
    {
      "cell_type": "markdown",
      "source": [
        "Since we have Two target values, we're dealing with a **binary classification** problem. Where:\n",
        "  * `1` = a real disaster Tweet\n",
        "  * `2` = not a real disaster Tweet\n",
        " \n",
        "\n",
        "\n"
      ],
      "metadata": {
        "id": "QEDfsut7WeA5"
      }
    },
    {
      "cell_type": "code",
      "source": [
        "# How many total samples?\n",
        "len(train_df), len(test_df)"
      ],
      "metadata": {
        "colab": {
          "base_uri": "https://localhost:8080/"
        },
        "id": "JL-QE_SbNm27",
        "outputId": "c764e6f5-5d5a-411e-8899-44b79adf1694"
      },
      "execution_count": 5,
      "outputs": [
        {
          "output_type": "execute_result",
          "data": {
            "text/plain": [
              "(7613, 7613)"
            ]
          },
          "metadata": {},
          "execution_count": 5
        }
      ]
    },
    {
      "cell_type": "markdown",
      "source": [
        "### Visualize some random training examples:"
      ],
      "metadata": {
        "id": "heglGUQFOQtM"
      }
    },
    {
      "cell_type": "code",
      "source": [
        "import random \n",
        "random_index = random.randint(0, len(train_df)-5)\n",
        "for row in train_df_shuffled[[\"text\",\"target\"]][random_index:random_index+5].itertuples():\n",
        "  _, text, target = row\n",
        "  print(f\"Target: {target}\", \"(real disaster)\" if target > 0 else \"(not real disaster)\")\n",
        "  print(f\"Text:\\n{text}\\n\")\n",
        "  print(\"---\\n\")"
      ],
      "metadata": {
        "colab": {
          "base_uri": "https://localhost:8080/"
        },
        "id": "O9T4GcQjOaue",
        "outputId": "94b016ce-cf47-43cf-fd0a-18818a313c6d"
      },
      "execution_count": 6,
      "outputs": [
        {
          "output_type": "stream",
          "name": "stdout",
          "text": [
            "Target: 1 (real disaster)\n",
            "Text:\n",
            "Civilian casualties rise as Afghan war intensifies in 2015-- http://t.co/NnylXhInPx\n",
            "\n",
            "---\n",
            "\n",
            "Target: 1 (real disaster)\n",
            "Text:\n",
            "Stop the Annihilation of the Salt River Wild Horses! http://t.co/wVobVVtXKg via @Change\n",
            "\n",
            "---\n",
            "\n",
            "Target: 1 (real disaster)\n",
            "Text:\n",
            "Russian 'food crematoria' provoke outrage amid crisis famine memories http://t.co/O4xLjnaV8F\n",
            "\n",
            "---\n",
            "\n",
            "Target: 1 (real disaster)\n",
            "Text:\n",
            "Though serious #natural #disaster increased in #Japanjapan #Nuclear safety standard is far inferior to #US standard.#anonymous #Nytimes\n",
            "\n",
            "---\n",
            "\n",
            "Target: 0 (not real disaster)\n",
            "Text:\n",
            "I'm at Baan Thai / Tsunami Sushi in Washington DC https://t.co/Udp10FRXrL\n",
            "\n",
            "---\n",
            "\n"
          ]
        }
      ]
    },
    {
      "cell_type": "markdown",
      "source": [],
      "metadata": {
        "id": "70bmRTEIac8b"
      }
    },
    {
      "cell_type": "markdown",
      "source": [
        "### Splitting data into training and validation sets"
      ],
      "metadata": {
        "id": "C5Yb_hlOQHW1"
      }
    },
    {
      "cell_type": "code",
      "source": [
        "from sklearn.model_selection import train_test_split\n",
        "\n",
        "# Split training data into training and validation sets.\n",
        "train_sentences, val_sentences, train_labels, val_labels = train_test_split(train_df_shuffled[\"text\"].to_numpy(),\n",
        "                                                                           train_df_shuffled[\"target\"].to_numpy(),\n",
        "                                                                           test_size= 0.1,\n",
        "                                                                           random_state= 42)                                                                                                                                                "
      ],
      "metadata": {
        "id": "crIFYAmgYrIo"
      },
      "execution_count": 7,
      "outputs": []
    },
    {
      "cell_type": "code",
      "source": [
        "# Check the lengths\n",
        "len(train_sentences), len(val_sentences), len(train_labels), len(val_labels)"
      ],
      "metadata": {
        "colab": {
          "base_uri": "https://localhost:8080/"
        },
        "id": "nPh-RhNqZ9UX",
        "outputId": "e75906c9-9e23-4226-a99e-fdbfd5742db9"
      },
      "execution_count": 8,
      "outputs": [
        {
          "output_type": "execute_result",
          "data": {
            "text/plain": [
              "(6851, 762, 6851, 762)"
            ]
          },
          "metadata": {},
          "execution_count": 8
        }
      ]
    },
    {
      "cell_type": "markdown",
      "source": [
        "### Converting text data to numbers using tokenisation and embeddings."
      ],
      "metadata": {
        "id": "RJ1MpNVlaMQS"
      }
    },
    {
      "cell_type": "code",
      "source": [
        "# Find the average numbers of tokens (words) in the trainin tweets\n",
        "round(sum([len(i.split()) for i in train_sentences])/len(train_sentences))"
      ],
      "metadata": {
        "colab": {
          "base_uri": "https://localhost:8080/"
        },
        "id": "9qSJLbSxs4wO",
        "outputId": "8c7876ac-c066-4398-d039-1482c6576a1a"
      },
      "execution_count": 9,
      "outputs": [
        {
          "output_type": "execute_result",
          "data": {
            "text/plain": [
              "15"
            ]
          },
          "metadata": {},
          "execution_count": 9
        }
      ]
    },
    {
      "cell_type": "code",
      "source": [
        "import tensorflow as tf\n",
        "from tensorflow.keras.layers.experimental.preprocessing import TextVectorization\n",
        "\n",
        "# Setup text vectorization variables\n",
        "max_vocab_length = 10000\n",
        "max_length = 15\n",
        "\n",
        "# Use the default TextVectorization parameters\n",
        "text_vectorizer = TextVectorization(max_tokens= max_vocab_length, # how many words in the vocabulary\n",
        "                                    standardize='lower_and_strip_punctuation',\n",
        "                                    split=\"whitespace\",\n",
        "                                    ngrams=None,\n",
        "                                    output_mode=\"int\",\n",
        "                                    output_sequence_length=max_length,\n",
        "                                    pad_to_max_tokens= True)\n"
      ],
      "metadata": {
        "id": "81xQLIiFeYp7"
      },
      "execution_count": 10,
      "outputs": []
    },
    {
      "cell_type": "markdown",
      "source": [
        "To map our `TextVectorization` instance `text_vectorizer` to our data, we can call the `adapt()` method on it whilst passing it our training text."
      ],
      "metadata": {
        "id": "e0LZlWPUeo6Z"
      }
    },
    {
      "cell_type": "code",
      "source": [
        "# fit the text vectorizer to the training text\n",
        "text_vectorizer.adapt(train_sentences)"
      ],
      "metadata": {
        "id": "MQoaVqThsXGC"
      },
      "execution_count": 11,
      "outputs": []
    },
    {
      "cell_type": "code",
      "source": [
        "# Create a sample sentences and tokenize it\n",
        "sample_sentences = \"There's a flood in my street!\"\n",
        "text_vectorizer([sample_sentences])"
      ],
      "metadata": {
        "colab": {
          "base_uri": "https://localhost:8080/"
        },
        "id": "djk8CEp-wbMF",
        "outputId": "bb1197a1-9a48-4632-ba86-85d280c0e7db"
      },
      "execution_count": 12,
      "outputs": [
        {
          "output_type": "execute_result",
          "data": {
            "text/plain": [
              "<tf.Tensor: shape=(1, 15), dtype=int64, numpy=\n",
              "array([[264,   3, 232,   4,  13, 698,   0,   0,   0,   0,   0,   0,   0,\n",
              "          0,   0]])>"
            ]
          },
          "metadata": {},
          "execution_count": 12
        }
      ]
    },
    {
      "cell_type": "markdown",
      "source": [
        "Beautiful!\n",
        "\n",
        "Now we've got a way to turn our text into numbers, so let's try this `text_vectorizer` instance on a few random training sentences!"
      ],
      "metadata": {
        "id": "x3aQ0Oxnwur_"
      }
    },
    {
      "cell_type": "code",
      "source": [
        "# Choose a random sentence from the training dataset and tokenize it\n",
        "random_sentence = random.choice(train_sentences)\n",
        "print(f\"Original text:\\n{random_sentence}\\\n",
        "      \\n\\nVectorized version:\")\n",
        "text_vectorizer([random_sentence])"
      ],
      "metadata": {
        "colab": {
          "base_uri": "https://localhost:8080/"
        },
        "id": "hGezy2Tlzg-1",
        "outputId": "ac3d0957-7400-4c84-c868-90f2c1ffaa3d"
      },
      "execution_count": 13,
      "outputs": [
        {
          "output_type": "stream",
          "name": "stdout",
          "text": [
            "Original text:\n",
            "I don't think I've forgiven Angelina Jolie yet sef????      \n",
            "\n",
            "Vectorized version:\n"
          ]
        },
        {
          "output_type": "execute_result",
          "data": {
            "text/plain": [
              "<tf.Tensor: shape=(1, 15), dtype=int64, numpy=\n",
              "array([[   8,   63,  125,  276, 3834,    1,    1,  522, 8689,    0,    0,\n",
              "           0,    0,    0,    0]])>"
            ]
          },
          "metadata": {},
          "execution_count": 13
        }
      ]
    },
    {
      "cell_type": "markdown",
      "source": [
        "Finally, we can check out some uniques tokens in our vocabulary using `get_vocabulary()` method"
      ],
      "metadata": {
        "id": "CzP_3YozztCY"
      }
    },
    {
      "cell_type": "code",
      "source": [
        "# Get the unique words in the vocabulary\n",
        "words_in_vocabulary = text_vectorizer.get_vocabulary()\n",
        "top_5_words = words_in_vocabulary[:5]\n",
        "bottom_5_words = words_in_vocabulary[-5:]\n",
        "print(f\"Number of words in vocab: {len(words_in_vocabulary)}\")\n",
        "print(f\"Top 5 most common words:{top_5_words}\")\n",
        "print(f\"Bottom 5 least common words:{bottom_5_words}\")"
      ],
      "metadata": {
        "colab": {
          "base_uri": "https://localhost:8080/"
        },
        "id": "cYWsjr0P0Led",
        "outputId": "fe0bf712-593c-4078-fcf0-5a254bffd7a2"
      },
      "execution_count": 14,
      "outputs": [
        {
          "output_type": "stream",
          "name": "stdout",
          "text": [
            "Number of words in vocab: 10000\n",
            "Top 5 most common words:['', '[UNK]', 'the', 'a', 'in']\n",
            "Bottom 5 least common words:['pages', 'paeds', 'pads', 'padres', 'paddytomlinson1']\n"
          ]
        }
      ]
    },
    {
      "cell_type": "markdown",
      "source": [
        "### Creating an Embedding using an Embedding Layer"
      ],
      "metadata": {
        "id": "6DR4oBlK07LA"
      }
    },
    {
      "cell_type": "code",
      "source": [
        "from tensorflow.keras import layers\n",
        "\n",
        "embedding = layers.Embedding(input_dim=max_vocab_length,\n",
        "                             output_dim=128,\n",
        "                             embeddings_initializer=\"uniform\",\n",
        "                             input_length=max_length,\n",
        "                             name=\"embedding_1\")\n",
        "embedding\n"
      ],
      "metadata": {
        "colab": {
          "base_uri": "https://localhost:8080/"
        },
        "id": "jYDp4Zq81ltN",
        "outputId": "ebbbd4ae-d800-412d-f5d6-aeb7277b4ada"
      },
      "execution_count": 15,
      "outputs": [
        {
          "output_type": "execute_result",
          "data": {
            "text/plain": [
              "<keras.layers.core.embedding.Embedding at 0x7f4d62ec96d0>"
            ]
          },
          "metadata": {},
          "execution_count": 15
        }
      ]
    },
    {
      "cell_type": "code",
      "source": [
        "# Get a random sentence from training set\n",
        "random_sentence = random.choice(train_sentences)\n",
        "print(f\"Original text:\\n{random_sentence}\\\n",
        "      \\n\\nEmbedded version:\")\n",
        "\n",
        "# Embed the random sentence (turn it into numerical representation)\n",
        "sample_embed = embedding(text_vectorizer([random_sentence]))\n",
        "sample_embed"
      ],
      "metadata": {
        "colab": {
          "base_uri": "https://localhost:8080/"
        },
        "id": "2lJ3DEac_VuT",
        "outputId": "de89eff0-d3f8-4797-e2a8-a0ee1dea41f2"
      },
      "execution_count": 16,
      "outputs": [
        {
          "output_type": "stream",
          "name": "stdout",
          "text": [
            "Original text:\n",
            "RT AbbsWinston: #Zionist #Terrorist demolish 18 #Palestinian structures in Jordan Valley http://t.co/rg3BndKXjX\n",
            "Û_ http://t.co/Bq90pfzMrP      \n",
            "\n",
            "Embedded version:\n"
          ]
        },
        {
          "output_type": "execute_result",
          "data": {
            "text/plain": [
              "<tf.Tensor: shape=(1, 15, 128), dtype=float32, numpy=\n",
              "array([[[-0.04330316,  0.03000936, -0.01007104, ..., -0.01782364,\n",
              "         -0.04431009, -0.01077261],\n",
              "        [ 0.03842631,  0.01592392, -0.04896264, ..., -0.02234856,\n",
              "         -0.02458001, -0.00655719],\n",
              "        [-0.04303288, -0.00162409,  0.03992632, ...,  0.03958665,\n",
              "          0.0231748 , -0.01933272],\n",
              "        ...,\n",
              "        [-0.01410971,  0.0111716 , -0.02339493, ..., -0.01330055,\n",
              "         -0.04998635, -0.0366699 ],\n",
              "        [-0.00105945, -0.03160929, -0.04777439, ...,  0.04389774,\n",
              "          0.00304613,  0.03793835],\n",
              "        [-0.01440243,  0.01211596, -0.0374791 , ..., -0.03121144,\n",
              "          0.01548835,  0.01455582]]], dtype=float32)>"
            ]
          },
          "metadata": {},
          "execution_count": 16
        }
      ]
    },
    {
      "cell_type": "markdown",
      "source": [
        "Each token in the sentences gets turned into a length 128 feature vector.\n",
        "\n",
        "So now the our data is ready let's test some models:"
      ],
      "metadata": {
        "id": "2Nyl_VAgeqx9"
      }
    },
    {
      "cell_type": "markdown",
      "source": [
        "# Modeling a text dataset\n",
        "\n",
        "In this colab we'll explore 7 modeling solutions.\n",
        "\n",
        "  * **Model 0:** Naive Bayes (From Sklearn)\n",
        "  * **Model 1:** Feed-forward neural network\n",
        "  * **Model 2:** LSTM model (RNN)\n",
        "  * **Model 3:** GRU model (RNN)\n",
        "  * **Model 4:** Bidirectional-LSTM model (RNN)\n",
        "  * **Model 5:** 1D Convolutional Neural Network (CNN)\n",
        "  * **Model 6:** TensorFlow Hub Pretrained Feature Extrator (using transfer learning for NLP)\n",
        "  * Model 7: Same as model 6 with 10% of training data.\n"
      ],
      "metadata": {
        "id": "PdeKb1Bie-Za"
      }
    },
    {
      "cell_type": "markdown",
      "source": [
        "### Model 0: Getting a baseline with Scikit-Learn\n",
        "\n",
        "To create our baseline, we'll create a Scikit-Learn Pipeline using the TF-IDF (term frequency-inverse document frequency) formula to convert our words to numbers and then model them with the Multinomial Naive Bayes algorithm. This was chosen via referring to the [Scikit-Learn machine learning map.](https://scikit-learn.org/stable/tutorial/machine_learning_map/index.html)\n",
        "\n"
      ],
      "metadata": {
        "id": "nS3UzJ7TgJzC"
      }
    },
    {
      "cell_type": "code",
      "source": [
        "from sklearn.feature_extraction.text import TfidfVectorizer\n",
        "from sklearn.naive_bayes import MultinomialNB\n",
        "from sklearn.pipeline import Pipeline\n",
        "\n",
        "# Create tokenization and modeling pipeline\n",
        "model_0= Pipeline([\n",
        "                   (\"tfidf\", TfidfVectorizer()),\n",
        "                   (\"clf\", MultinomialNB())\n",
        "                   ])\n",
        "\n",
        "# Fit the pipeline to the training data\n",
        "model_0.fit(train_sentences, train_labels)\n"
      ],
      "metadata": {
        "colab": {
          "base_uri": "https://localhost:8080/",
          "height": 125
        },
        "id": "RsZDpZ7OkHPi",
        "outputId": "c11e2ee8-57dd-4c97-a38f-d872483b8b3d"
      },
      "execution_count": 17,
      "outputs": [
        {
          "output_type": "execute_result",
          "data": {
            "text/plain": [
              "Pipeline(steps=[('tfidf', TfidfVectorizer()), ('clf', MultinomialNB())])"
            ],
            "text/html": [
              "<style>#sk-container-id-1 {color: black;background-color: white;}#sk-container-id-1 pre{padding: 0;}#sk-container-id-1 div.sk-toggleable {background-color: white;}#sk-container-id-1 label.sk-toggleable__label {cursor: pointer;display: block;width: 100%;margin-bottom: 0;padding: 0.3em;box-sizing: border-box;text-align: center;}#sk-container-id-1 label.sk-toggleable__label-arrow:before {content: \"▸\";float: left;margin-right: 0.25em;color: #696969;}#sk-container-id-1 label.sk-toggleable__label-arrow:hover:before {color: black;}#sk-container-id-1 div.sk-estimator:hover label.sk-toggleable__label-arrow:before {color: black;}#sk-container-id-1 div.sk-toggleable__content {max-height: 0;max-width: 0;overflow: hidden;text-align: left;background-color: #f0f8ff;}#sk-container-id-1 div.sk-toggleable__content pre {margin: 0.2em;color: black;border-radius: 0.25em;background-color: #f0f8ff;}#sk-container-id-1 input.sk-toggleable__control:checked~div.sk-toggleable__content {max-height: 200px;max-width: 100%;overflow: auto;}#sk-container-id-1 input.sk-toggleable__control:checked~label.sk-toggleable__label-arrow:before {content: \"▾\";}#sk-container-id-1 div.sk-estimator input.sk-toggleable__control:checked~label.sk-toggleable__label {background-color: #d4ebff;}#sk-container-id-1 div.sk-label input.sk-toggleable__control:checked~label.sk-toggleable__label {background-color: #d4ebff;}#sk-container-id-1 input.sk-hidden--visually {border: 0;clip: rect(1px 1px 1px 1px);clip: rect(1px, 1px, 1px, 1px);height: 1px;margin: -1px;overflow: hidden;padding: 0;position: absolute;width: 1px;}#sk-container-id-1 div.sk-estimator {font-family: monospace;background-color: #f0f8ff;border: 1px dotted black;border-radius: 0.25em;box-sizing: border-box;margin-bottom: 0.5em;}#sk-container-id-1 div.sk-estimator:hover {background-color: #d4ebff;}#sk-container-id-1 div.sk-parallel-item::after {content: \"\";width: 100%;border-bottom: 1px solid gray;flex-grow: 1;}#sk-container-id-1 div.sk-label:hover label.sk-toggleable__label {background-color: #d4ebff;}#sk-container-id-1 div.sk-serial::before {content: \"\";position: absolute;border-left: 1px solid gray;box-sizing: border-box;top: 0;bottom: 0;left: 50%;z-index: 0;}#sk-container-id-1 div.sk-serial {display: flex;flex-direction: column;align-items: center;background-color: white;padding-right: 0.2em;padding-left: 0.2em;position: relative;}#sk-container-id-1 div.sk-item {position: relative;z-index: 1;}#sk-container-id-1 div.sk-parallel {display: flex;align-items: stretch;justify-content: center;background-color: white;position: relative;}#sk-container-id-1 div.sk-item::before, #sk-container-id-1 div.sk-parallel-item::before {content: \"\";position: absolute;border-left: 1px solid gray;box-sizing: border-box;top: 0;bottom: 0;left: 50%;z-index: -1;}#sk-container-id-1 div.sk-parallel-item {display: flex;flex-direction: column;z-index: 1;position: relative;background-color: white;}#sk-container-id-1 div.sk-parallel-item:first-child::after {align-self: flex-end;width: 50%;}#sk-container-id-1 div.sk-parallel-item:last-child::after {align-self: flex-start;width: 50%;}#sk-container-id-1 div.sk-parallel-item:only-child::after {width: 0;}#sk-container-id-1 div.sk-dashed-wrapped {border: 1px dashed gray;margin: 0 0.4em 0.5em 0.4em;box-sizing: border-box;padding-bottom: 0.4em;background-color: white;}#sk-container-id-1 div.sk-label label {font-family: monospace;font-weight: bold;display: inline-block;line-height: 1.2em;}#sk-container-id-1 div.sk-label-container {text-align: center;}#sk-container-id-1 div.sk-container {/* jupyter's `normalize.less` sets `[hidden] { display: none; }` but bootstrap.min.css set `[hidden] { display: none !important; }` so we also need the `!important` here to be able to override the default hidden behavior on the sphinx rendered scikit-learn.org. See: https://github.com/scikit-learn/scikit-learn/issues/21755 */display: inline-block !important;position: relative;}#sk-container-id-1 div.sk-text-repr-fallback {display: none;}</style><div id=\"sk-container-id-1\" class=\"sk-top-container\"><div class=\"sk-text-repr-fallback\"><pre>Pipeline(steps=[(&#x27;tfidf&#x27;, TfidfVectorizer()), (&#x27;clf&#x27;, MultinomialNB())])</pre><b>In a Jupyter environment, please rerun this cell to show the HTML representation or trust the notebook. <br />On GitHub, the HTML representation is unable to render, please try loading this page with nbviewer.org.</b></div><div class=\"sk-container\" hidden><div class=\"sk-item sk-dashed-wrapped\"><div class=\"sk-label-container\"><div class=\"sk-label sk-toggleable\"><input class=\"sk-toggleable__control sk-hidden--visually\" id=\"sk-estimator-id-1\" type=\"checkbox\" ><label for=\"sk-estimator-id-1\" class=\"sk-toggleable__label sk-toggleable__label-arrow\">Pipeline</label><div class=\"sk-toggleable__content\"><pre>Pipeline(steps=[(&#x27;tfidf&#x27;, TfidfVectorizer()), (&#x27;clf&#x27;, MultinomialNB())])</pre></div></div></div><div class=\"sk-serial\"><div class=\"sk-item\"><div class=\"sk-estimator sk-toggleable\"><input class=\"sk-toggleable__control sk-hidden--visually\" id=\"sk-estimator-id-2\" type=\"checkbox\" ><label for=\"sk-estimator-id-2\" class=\"sk-toggleable__label sk-toggleable__label-arrow\">TfidfVectorizer</label><div class=\"sk-toggleable__content\"><pre>TfidfVectorizer()</pre></div></div></div><div class=\"sk-item\"><div class=\"sk-estimator sk-toggleable\"><input class=\"sk-toggleable__control sk-hidden--visually\" id=\"sk-estimator-id-3\" type=\"checkbox\" ><label for=\"sk-estimator-id-3\" class=\"sk-toggleable__label sk-toggleable__label-arrow\">MultinomialNB</label><div class=\"sk-toggleable__content\"><pre>MultinomialNB()</pre></div></div></div></div></div></div></div>"
            ]
          },
          "metadata": {},
          "execution_count": 17
        }
      ]
    },
    {
      "cell_type": "code",
      "source": [
        "# Evaluate our baseline model\n",
        "baseline_score = model_0.score(val_sentences, val_labels)\n",
        "print(f\"The model have a {baseline_score*100:.2f}% of accuracy\")"
      ],
      "metadata": {
        "colab": {
          "base_uri": "https://localhost:8080/"
        },
        "id": "um7U3fTXm1Ku",
        "outputId": "6886d05c-2dc1-4065-b1b1-7e277501e360"
      },
      "execution_count": 18,
      "outputs": [
        {
          "output_type": "stream",
          "name": "stdout",
          "text": [
            "The model have a 79.27% of accuracy\n"
          ]
        }
      ]
    },
    {
      "cell_type": "code",
      "source": [
        "baseline_preds = model_0.predict(val_sentences)\n",
        "baseline_preds[:20]"
      ],
      "metadata": {
        "colab": {
          "base_uri": "https://localhost:8080/"
        },
        "id": "TR2v0jH9zYUx",
        "outputId": "3556540a-82de-46ae-9f0d-80f4237f058f"
      },
      "execution_count": 19,
      "outputs": [
        {
          "output_type": "execute_result",
          "data": {
            "text/plain": [
              "array([1, 1, 1, 0, 0, 1, 1, 1, 1, 0, 0, 1, 0, 0, 0, 0, 0, 0, 0, 1])"
            ]
          },
          "metadata": {},
          "execution_count": 19
        }
      ]
    },
    {
      "cell_type": "markdown",
      "source": [
        "# Evaluating the models"
      ],
      "metadata": {
        "id": "ohcqRyYhm79c"
      }
    },
    {
      "cell_type": "markdown",
      "source": [
        "### Creating an evaluation function for our model experiments.\n",
        "\n",
        "Since we're going to be evaluating several models in the same way, let's create a helper function which takes and array of predictions and ground truth labels and computes the following:\n",
        "\n",
        "* Accuracy\n",
        "* Precision\n",
        "* Recall\n",
        "* F1-score\n"
      ],
      "metadata": {
        "id": "bhtD6WRuoWvJ"
      }
    },
    {
      "cell_type": "code",
      "source": [
        "from sklearn.metrics import accuracy_score, precision_recall_fscore_support\n",
        "\n",
        "def calculate_results(y_true, y_pred):\n",
        "  \"\"\"\n",
        "  Calculates model accuracy, precision, recall and f1 score of a binary classification model.\n",
        "  \"\"\"\n",
        "\n",
        "  # Calculate model accuracy\n",
        "  model_accuracy = accuracy_score(y_true, y_pred)\n",
        "  \n",
        "  # Calaculate model precision, recall and f1-score\n",
        "  model_precision, model_recall, model_f1, _ = precision_recall_fscore_support(y_true, y_pred, average=\"weighted\")\n",
        "  model_results = {\"accuracy\": model_accuracy,\n",
        "                   \"precision\": model_precision,\n",
        "                   \"recall\": model_recall,\n",
        "                   \"f1\": model_f1}\n",
        "  return model_results\n"
      ],
      "metadata": {
        "id": "yKE969dowsrD"
      },
      "execution_count": 20,
      "outputs": []
    },
    {
      "cell_type": "code",
      "source": [
        "# Get baseline results\n",
        "baseline_results = calculate_results(y_true=val_labels, y_pred=baseline_preds)\n",
        "baseline_results"
      ],
      "metadata": {
        "colab": {
          "base_uri": "https://localhost:8080/"
        },
        "id": "RaIsVi1Zy4wm",
        "outputId": "bcfa08f9-db04-4173-9a07-f7d28fda5474"
      },
      "execution_count": 21,
      "outputs": [
        {
          "output_type": "execute_result",
          "data": {
            "text/plain": [
              "{'accuracy': 0.7926509186351706,\n",
              " 'precision': 0.8111390004213173,\n",
              " 'recall': 0.7926509186351706,\n",
              " 'f1': 0.7862189758049549}"
            ]
          },
          "metadata": {},
          "execution_count": 21
        }
      ]
    },
    {
      "cell_type": "code",
      "source": [
        "# Create a helper function to compare our baseline results to new model results\n",
        "def compare_baseline_to_new_results(baseline_results, new_model_results):\n",
        "  for key, value in baseline_results.items():\n",
        "    print(f\"Baseline {key}: {value:.2f}, New {key}: {new_model_results[key]:.2f}, Difference: {new_model_results[key]-value:.2f}\")\n",
        "\n",
        "compare_baseline_to_new_results(baseline_results=baseline_results, \n",
        "                                new_model_results=model_1_results)"
      ],
      "metadata": {
        "colab": {
          "base_uri": "https://localhost:8080/",
          "height": 200
        },
        "id": "TAjZNul6N05n",
        "outputId": "b64208cd-6956-47be-b94f-8bc7285359be"
      },
      "execution_count": 22,
      "outputs": [
        {
          "output_type": "error",
          "ename": "NameError",
          "evalue": "ignored",
          "traceback": [
            "\u001b[0;31m---------------------------------------------------------------------------\u001b[0m",
            "\u001b[0;31mNameError\u001b[0m                                 Traceback (most recent call last)",
            "\u001b[0;32m<ipython-input-22-3c9047411ef9>\u001b[0m in \u001b[0;36m<module>\u001b[0;34m\u001b[0m\n\u001b[1;32m      5\u001b[0m \u001b[0;34m\u001b[0m\u001b[0m\n\u001b[1;32m      6\u001b[0m compare_baseline_to_new_results(baseline_results=baseline_results, \n\u001b[0;32m----> 7\u001b[0;31m                                 new_model_results=model_1_results)\n\u001b[0m",
            "\u001b[0;31mNameError\u001b[0m: name 'model_1_results' is not defined"
          ]
        }
      ]
    },
    {
      "cell_type": "markdown",
      "source": [
        "# Improve throught experimentation"
      ],
      "metadata": {
        "id": "_LEIWJbRzEL2"
      }
    },
    {
      "cell_type": "markdown",
      "source": [
        "### Model 1: A simple dense model."
      ],
      "metadata": {
        "id": "eyyj70If0FdH"
      }
    },
    {
      "cell_type": "code",
      "source": [
        "# Create a tensorboard callback\n",
        "from helper_functions import create_tensorboard_callback\n",
        "\n",
        "# Create a directory to save tensoBoard logs\n",
        "SAVE_DIR = \"model_logs\""
      ],
      "metadata": {
        "id": "n2cRLTW32Ut9"
      },
      "execution_count": 23,
      "outputs": []
    },
    {
      "cell_type": "code",
      "source": [
        "# Build model with the Functional API\n",
        "from tensorflow.keras import layers\n",
        "\n",
        "inputs = layers.Input(shape=(1,), dtype=\"string\")\n",
        "x = text_vectorizer(inputs) # turn the input text into numbers\n",
        "x = embedding(x) # create an embedding of the numberized inputs\n",
        "x = layers.GlobalAveragePooling1D()(x) # Lower the dimensionalty of the embedding\n",
        "outputs = layers.Dense(1, activation=\"sigmoid\")(x) # Create the output layer\n",
        "model_1 = tf.keras.Model(inputs, outputs, name=\"model_1_dense\") # construct the model\n",
        "\n"
      ],
      "metadata": {
        "id": "icqzgMTi2qCX"
      },
      "execution_count": 24,
      "outputs": []
    },
    {
      "cell_type": "code",
      "source": [
        "# Compile model\n",
        "model_1.compile(loss=\"binary_crossentropy\",\n",
        "                optimizer= tf.keras.optimizers.Adam(),\n",
        "                metrics=[\"accuracy\"])"
      ],
      "metadata": {
        "id": "W7dCbvmR7o_h"
      },
      "execution_count": 25,
      "outputs": []
    },
    {
      "cell_type": "code",
      "source": [
        "model_1.summary()"
      ],
      "metadata": {
        "colab": {
          "base_uri": "https://localhost:8080/"
        },
        "id": "ju0y5iAQ3YlH",
        "outputId": "6da6b48f-680e-46e3-eeda-41001f228bd8"
      },
      "execution_count": 26,
      "outputs": [
        {
          "output_type": "stream",
          "name": "stdout",
          "text": [
            "Model: \"model_1_dense\"\n",
            "_________________________________________________________________\n",
            " Layer (type)                Output Shape              Param #   \n",
            "=================================================================\n",
            " input_1 (InputLayer)        [(None, 1)]               0         \n",
            "                                                                 \n",
            " text_vectorization (TextVec  (None, 15)               0         \n",
            " torization)                                                     \n",
            "                                                                 \n",
            " embedding_1 (Embedding)     (None, 15, 128)           1280000   \n",
            "                                                                 \n",
            " global_average_pooling1d (G  (None, 128)              0         \n",
            " lobalAveragePooling1D)                                          \n",
            "                                                                 \n",
            " dense (Dense)               (None, 1)                 129       \n",
            "                                                                 \n",
            "=================================================================\n",
            "Total params: 1,280,129\n",
            "Trainable params: 1,280,129\n",
            "Non-trainable params: 0\n",
            "_________________________________________________________________\n"
          ]
        }
      ]
    },
    {
      "cell_type": "code",
      "source": [
        "# Fit the model\n",
        "model_1_history = model_1.fit(train_sentences, # input sentences can be a list of strings due to text preprocessing layer built-in model\n",
        "                              train_labels,\n",
        "                              epochs=5,\n",
        "                              validation_data=(val_sentences, val_labels),\n",
        "                              callbacks=[create_tensorboard_callback(dir_name=SAVE_DIR, \n",
        "                                                                     experiment_name=\"simple_dense_model\")])"
      ],
      "metadata": {
        "colab": {
          "base_uri": "https://localhost:8080/"
        },
        "id": "-D2jzRNX3ai6",
        "outputId": "f27cec84-ac63-4401-d39f-4d5febecbf87"
      },
      "execution_count": 27,
      "outputs": [
        {
          "output_type": "stream",
          "name": "stdout",
          "text": [
            "Saving TensorBoard log files to: model_logs/simple_dense_model/20230305-004248\n",
            "Epoch 1/5\n",
            "215/215 [==============================] - 17s 56ms/step - loss: 0.6136 - accuracy: 0.6908 - val_loss: 0.5358 - val_accuracy: 0.7612\n",
            "Epoch 2/5\n",
            "215/215 [==============================] - 3s 13ms/step - loss: 0.4411 - accuracy: 0.8178 - val_loss: 0.4733 - val_accuracy: 0.7861\n",
            "Epoch 3/5\n",
            "215/215 [==============================] - 2s 9ms/step - loss: 0.3482 - accuracy: 0.8590 - val_loss: 0.4606 - val_accuracy: 0.7861\n",
            "Epoch 4/5\n",
            "215/215 [==============================] - 2s 8ms/step - loss: 0.2851 - accuracy: 0.8913 - val_loss: 0.4602 - val_accuracy: 0.7927\n",
            "Epoch 5/5\n",
            "215/215 [==============================] - 3s 14ms/step - loss: 0.2376 - accuracy: 0.9114 - val_loss: 0.4775 - val_accuracy: 0.7835\n"
          ]
        }
      ]
    },
    {
      "cell_type": "markdown",
      "source": [
        "Let's check this model performance on the validation set"
      ],
      "metadata": {
        "id": "oecm2FVB8eHr"
      }
    },
    {
      "cell_type": "code",
      "source": [
        "# Check the results\n",
        "model_1.evaluate(val_sentences, val_labels)"
      ],
      "metadata": {
        "colab": {
          "base_uri": "https://localhost:8080/"
        },
        "id": "25TiIjvg5Bqc",
        "outputId": "c27f217f-51be-40d9-d5d3-91fcf8b82c3b"
      },
      "execution_count": 28,
      "outputs": [
        {
          "output_type": "stream",
          "name": "stdout",
          "text": [
            "24/24 [==============================] - 0s 3ms/step - loss: 0.4775 - accuracy: 0.7835\n"
          ]
        },
        {
          "output_type": "execute_result",
          "data": {
            "text/plain": [
              "[0.47747257351875305, 0.7834645509719849]"
            ]
          },
          "metadata": {},
          "execution_count": 28
        }
      ]
    },
    {
      "cell_type": "code",
      "source": [
        "# Make some predictions and evaluate those\n",
        "model_1_pred_probs = model_1.predict(val_sentences)\n",
        "model_1_pred_probs.shape"
      ],
      "metadata": {
        "colab": {
          "base_uri": "https://localhost:8080/"
        },
        "id": "HOAndOAv7Db4",
        "outputId": "f525719d-9af6-46f0-e72d-c91b2577d688"
      },
      "execution_count": 29,
      "outputs": [
        {
          "output_type": "stream",
          "name": "stdout",
          "text": [
            "24/24 [==============================] - 0s 2ms/step\n"
          ]
        },
        {
          "output_type": "execute_result",
          "data": {
            "text/plain": [
              "(762, 1)"
            ]
          },
          "metadata": {},
          "execution_count": 29
        }
      ]
    },
    {
      "cell_type": "code",
      "source": [
        "# Look at the firts 3 predictions\n",
        "model_1_pred_probs[:8]"
      ],
      "metadata": {
        "colab": {
          "base_uri": "https://localhost:8080/"
        },
        "id": "pWi-NAWF_C8g",
        "outputId": "5818b12d-8ce5-41ec-9cf2-113d7d4ebdfc"
      },
      "execution_count": 30,
      "outputs": [
        {
          "output_type": "execute_result",
          "data": {
            "text/plain": [
              "array([[0.36936933],\n",
              "       [0.78002536],\n",
              "       [0.9977659 ],\n",
              "       [0.15691847],\n",
              "       [0.12556477],\n",
              "       [0.9446184 ],\n",
              "       [0.91200566],\n",
              "       [0.9925127 ]], dtype=float32)"
            ]
          },
          "metadata": {},
          "execution_count": 30
        }
      ]
    },
    {
      "cell_type": "markdown",
      "source": [
        "For comparing our `pred_probs` with the `true_labels` we need to convert the predicts to label format."
      ],
      "metadata": {
        "id": "xi8Wpy8J_LOd"
      }
    },
    {
      "cell_type": "code",
      "source": [
        "# Convert model prediction probabilities to label format\n",
        "model_1_preds = tf.squeeze(tf.round(model_1_pred_probs))\n",
        "model_1_preds[:10]"
      ],
      "metadata": {
        "colab": {
          "base_uri": "https://localhost:8080/"
        },
        "id": "YF1AGa88-Wjb",
        "outputId": "ffa366f1-862e-4e5e-80c2-1f48bf35d127"
      },
      "execution_count": 31,
      "outputs": [
        {
          "output_type": "execute_result",
          "data": {
            "text/plain": [
              "<tf.Tensor: shape=(10,), dtype=float32, numpy=array([0., 1., 1., 0., 0., 1., 1., 1., 1., 0.], dtype=float32)>"
            ]
          },
          "metadata": {},
          "execution_count": 31
        }
      ]
    },
    {
      "cell_type": "code",
      "source": [
        "# Calculate our model_1 results\n",
        "model_1_results = calculate_results(y_true= val_labels,\n",
        "                                    y_pred= model_1_preds)\n",
        "model_1_results"
      ],
      "metadata": {
        "colab": {
          "base_uri": "https://localhost:8080/"
        },
        "id": "u-2tdHso-g2y",
        "outputId": "a9fbb785-3f51-46bc-91a6-2abbdb77463f"
      },
      "execution_count": 32,
      "outputs": [
        {
          "output_type": "execute_result",
          "data": {
            "text/plain": [
              "{'accuracy': 0.7834645669291339,\n",
              " 'precision': 0.7864953185428455,\n",
              " 'recall': 0.7834645669291339,\n",
              " 'f1': 0.7810537461695031}"
            ]
          },
          "metadata": {},
          "execution_count": 32
        }
      ]
    },
    {
      "cell_type": "code",
      "source": [
        "# View tensorboard logs of transfer learning modelling experiments (should be 4 models)\n",
        "# Upload TensorBoard dev records\n",
        "#!tensorboard dev upload --logdir ./model_logs \\\n",
        "#   --name \"First deep model on text data\" \\\n",
        "#   --description \"Trying a dense model with an embedding layer\" \\\n",
        "#   --one_shot # exits the uploader when upload has finished"
      ],
      "metadata": {
        "id": "9Pg80iYdDZPG"
      },
      "execution_count": null,
      "outputs": []
    },
    {
      "cell_type": "code",
      "source": [
        "# Delete Tensoboard instance.\n",
        "#!tensorboard dev delete --experiment_id Y87inY29TPCA0nwXKXIkqg"
      ],
      "metadata": {
        "id": "mTttupi_kUP1"
      },
      "execution_count": null,
      "outputs": []
    },
    {
      "cell_type": "markdown",
      "source": [
        "Looks like our baseline is out performing our firts deep learning model..."
      ],
      "metadata": {
        "id": "CGfeTlgICcM7"
      }
    },
    {
      "cell_type": "markdown",
      "source": [
        "### Model_2: LSTM RNN\n",
        "\n",
        "To make sure we're not reusing trained embeddings, we'll create another embedding layer for our second model."
      ],
      "metadata": {
        "id": "mEzmdVAHkUMQ"
      }
    },
    {
      "cell_type": "code",
      "source": [
        "# Set random seed and create embedding layer\n",
        "tf.random.set_seed(42)\n",
        "from tensorflow.keras import layers\n",
        "model_2_embedding = layers.Embedding(input_dim=max_vocab_length,\n",
        "                                     output_dim=128,\n",
        "                                     embeddings_initializer=\"uniform\",\n",
        "                                     input_length= max_length,\n",
        "                                     name=\"embedding_2\")"
      ],
      "metadata": {
        "id": "vG9zmRuMosC2"
      },
      "execution_count": 35,
      "outputs": []
    },
    {
      "cell_type": "code",
      "source": [
        "#  Set random seed and create embedding layer\n",
        "inputs = layers.Input(shape=(1,), dtype=\"string\")\n",
        "x = text_vectorizer(inputs)\n",
        "x = model_2_embedding(x)\n",
        "x = layers.LSTM(64)(x)\n",
        "outputs = layers.Dense(1, activation=\"sigmoid\")(x)\n",
        "model_2= tf.keras.Model(inputs,outputs, name=\"model_2_LSTM\")"
      ],
      "metadata": {
        "id": "HtLcWeT6IfQG"
      },
      "execution_count": 36,
      "outputs": []
    },
    {
      "cell_type": "code",
      "source": [
        "# Compile model\n",
        "model_2.compile(loss=\"binary_crossentropy\",\n",
        "                optimizer=tf.keras.optimizers.Adam(),\n",
        "                metrics=[\"accuracy\"])"
      ],
      "metadata": {
        "id": "WyVn0Sugp_DG"
      },
      "execution_count": 37,
      "outputs": []
    },
    {
      "cell_type": "code",
      "source": [
        "model_2.summary()"
      ],
      "metadata": {
        "colab": {
          "base_uri": "https://localhost:8080/"
        },
        "id": "3ppZBn_kKeli",
        "outputId": "049098a7-4836-4ec0-9202-ff42872b7d8a"
      },
      "execution_count": 38,
      "outputs": [
        {
          "output_type": "stream",
          "name": "stdout",
          "text": [
            "Model: \"model_2_LSTM\"\n",
            "_________________________________________________________________\n",
            " Layer (type)                Output Shape              Param #   \n",
            "=================================================================\n",
            " input_2 (InputLayer)        [(None, 1)]               0         \n",
            "                                                                 \n",
            " text_vectorization (TextVec  (None, 15)               0         \n",
            " torization)                                                     \n",
            "                                                                 \n",
            " embedding_2 (Embedding)     (None, 15, 128)           1280000   \n",
            "                                                                 \n",
            " lstm (LSTM)                 (None, 64)                49408     \n",
            "                                                                 \n",
            " dense_1 (Dense)             (None, 1)                 65        \n",
            "                                                                 \n",
            "=================================================================\n",
            "Total params: 1,329,473\n",
            "Trainable params: 1,329,473\n",
            "Non-trainable params: 0\n",
            "_________________________________________________________________\n"
          ]
        }
      ]
    },
    {
      "cell_type": "code",
      "source": [
        "# Fit the model\n",
        "model_2_history = model_2.fit(train_sentences,\n",
        "                               train_labels,\n",
        "                               epochs=5,\n",
        "                               validation_data=(val_sentences, val_labels),\n",
        "                               callbacks= [create_tensorboard_callback(SAVE_DIR,\n",
        "                                                                       \"LSTM\")])"
      ],
      "metadata": {
        "colab": {
          "base_uri": "https://localhost:8080/"
        },
        "id": "x8nmDJw9Kh6m",
        "outputId": "25202a6f-4452-4e07-ca2b-fc7d1a6132c5"
      },
      "execution_count": 39,
      "outputs": [
        {
          "output_type": "stream",
          "name": "stdout",
          "text": [
            "Saving TensorBoard log files to: model_logs/LSTM/20230305-005158\n",
            "Epoch 1/5\n",
            "215/215 [==============================] - 15s 45ms/step - loss: 0.5086 - accuracy: 0.7463 - val_loss: 0.4578 - val_accuracy: 0.7835\n",
            "Epoch 2/5\n",
            "215/215 [==============================] - 2s 11ms/step - loss: 0.3171 - accuracy: 0.8713 - val_loss: 0.5094 - val_accuracy: 0.7795\n",
            "Epoch 3/5\n",
            "215/215 [==============================] - 2s 11ms/step - loss: 0.2199 - accuracy: 0.9171 - val_loss: 0.5789 - val_accuracy: 0.7690\n",
            "Epoch 4/5\n",
            "215/215 [==============================] - 2s 9ms/step - loss: 0.1557 - accuracy: 0.9467 - val_loss: 0.6308 - val_accuracy: 0.7730\n",
            "Epoch 5/5\n",
            "215/215 [==============================] - 2s 11ms/step - loss: 0.1077 - accuracy: 0.9602 - val_loss: 0.9127 - val_accuracy: 0.7559\n"
          ]
        }
      ]
    },
    {
      "cell_type": "code",
      "source": [
        "# Make predictions on the validation dataset\n",
        "model_2_pred_probs = model_2.predict(val_sentences)\n",
        "model_2_pred_probs.shape, model_2_pred_probs[:10] # view the firts 10"
      ],
      "metadata": {
        "colab": {
          "base_uri": "https://localhost:8080/"
        },
        "id": "YO1Ha25xL-iR",
        "outputId": "ebc31277-1f17-4425-c560-906b7e2aa78c"
      },
      "execution_count": 40,
      "outputs": [
        {
          "output_type": "stream",
          "name": "stdout",
          "text": [
            "24/24 [==============================] - 1s 5ms/step\n"
          ]
        },
        {
          "output_type": "execute_result",
          "data": {
            "text/plain": [
              "((762, 1), array([[0.00942706],\n",
              "        [0.71005934],\n",
              "        [0.9994272 ],\n",
              "        [0.04860404],\n",
              "        [0.00222313],\n",
              "        [0.9996648 ],\n",
              "        [0.94955885],\n",
              "        [0.9997416 ],\n",
              "        [0.9996505 ],\n",
              "        [0.41535503]], dtype=float32))"
            ]
          },
          "metadata": {},
          "execution_count": 40
        }
      ]
    },
    {
      "cell_type": "markdown",
      "source": [
        "Our current model returns prediction probabilities rather than classes, we can turn these predictions into classes by rounding to the nearest integer."
      ],
      "metadata": {
        "id": "veoIBvu8MkEl"
      }
    },
    {
      "cell_type": "code",
      "source": [
        "# Round out predictions and reduce to 1-dimensional array\n",
        "model_2_preds = tf.squeeze(tf.round(model_2_pred_probs))\n",
        "model_2_preds[:10]"
      ],
      "metadata": {
        "colab": {
          "base_uri": "https://localhost:8080/"
        },
        "id": "YVcS2O8ZMewL",
        "outputId": "fcbe455c-dbae-419f-b29c-c3ed1c6ff2c4"
      },
      "execution_count": 41,
      "outputs": [
        {
          "output_type": "execute_result",
          "data": {
            "text/plain": [
              "<tf.Tensor: shape=(10,), dtype=float32, numpy=array([0., 1., 1., 0., 0., 1., 1., 1., 1., 0.], dtype=float32)>"
            ]
          },
          "metadata": {},
          "execution_count": 41
        }
      ]
    },
    {
      "cell_type": "code",
      "source": [
        "# Calculate LSTM model results\n",
        "model_2_results = calculate_results(y_true= val_labels,\n",
        "                                    y_pred=model_2_preds)\n",
        "model_2_results"
      ],
      "metadata": {
        "colab": {
          "base_uri": "https://localhost:8080/"
        },
        "id": "fOKEimsGNN7n",
        "outputId": "ede423ab-5203-448e-afd0-154196f1b87d"
      },
      "execution_count": 42,
      "outputs": [
        {
          "output_type": "execute_result",
          "data": {
            "text/plain": [
              "{'accuracy': 0.7559055118110236,\n",
              " 'precision': 0.756358217141213,\n",
              " 'recall': 0.7559055118110236,\n",
              " 'f1': 0.7542126125197939}"
            ]
          },
          "metadata": {},
          "execution_count": 42
        }
      ]
    },
    {
      "cell_type": "code",
      "source": [
        "# Compare model 2 to baseline\n",
        "compare_baseline_to_new_results(baseline_results, model_2_results)"
      ],
      "metadata": {
        "colab": {
          "base_uri": "https://localhost:8080/"
        },
        "id": "DheVe1xNNePr",
        "outputId": "bd7f078f-6428-42a5-8119-9ba2b53ffff6"
      },
      "execution_count": 43,
      "outputs": [
        {
          "output_type": "stream",
          "name": "stdout",
          "text": [
            "Baseline accuracy: 0.79, New accuracy: 0.76, Difference: -0.04\n",
            "Baseline precision: 0.81, New precision: 0.76, Difference: -0.05\n",
            "Baseline recall: 0.79, New recall: 0.76, Difference: -0.04\n",
            "Baseline f1: 0.79, New f1: 0.75, Difference: -0.03\n"
          ]
        }
      ]
    },
    {
      "cell_type": "markdown",
      "source": [
        "### Model_3: GRU RNN"
      ],
      "metadata": {
        "id": "rY8E68JTNoao"
      }
    },
    {
      "cell_type": "code",
      "source": [
        "# Create embedding layer\n",
        "model_3_embedding = layers.Embedding(input_dim=max_vocab_length,\n",
        "                                     output_dim=128,\n",
        "                                     embeddings_initializer=\"uniform\",\n",
        "                                     input_length=max_length,\n",
        "                                     name=\"embedding_3\")\n",
        "# Build an RNN using the GRU cell\n",
        "inputs = layers.Input(shape=(1,), dtype=\"string\")\n",
        "x = text_vectorizer(inputs)\n",
        "x = model_3_embedding(x)\n",
        "x = layers.GRU(64)(x) \n",
        "outputs = layers.Dense(1, activation=\"sigmoid\")(x)\n",
        "model_3 = tf.keras.Model(inputs, outputs, name=\"model_3_GRU\")"
      ],
      "metadata": {
        "id": "zO8hI0IUOHIA"
      },
      "execution_count": 44,
      "outputs": []
    },
    {
      "cell_type": "code",
      "source": [
        "model_3.summary()"
      ],
      "metadata": {
        "colab": {
          "base_uri": "https://localhost:8080/"
        },
        "id": "W0ZLCnv8daoy",
        "outputId": "1d5e6f89-2eb7-4e18-e7d7-3d710a089194"
      },
      "execution_count": 45,
      "outputs": [
        {
          "output_type": "stream",
          "name": "stdout",
          "text": [
            "Model: \"model_3_GRU\"\n",
            "_________________________________________________________________\n",
            " Layer (type)                Output Shape              Param #   \n",
            "=================================================================\n",
            " input_3 (InputLayer)        [(None, 1)]               0         \n",
            "                                                                 \n",
            " text_vectorization (TextVec  (None, 15)               0         \n",
            " torization)                                                     \n",
            "                                                                 \n",
            " embedding_3 (Embedding)     (None, 15, 128)           1280000   \n",
            "                                                                 \n",
            " gru (GRU)                   (None, 64)                37248     \n",
            "                                                                 \n",
            " dense_2 (Dense)             (None, 1)                 65        \n",
            "                                                                 \n",
            "=================================================================\n",
            "Total params: 1,317,313\n",
            "Trainable params: 1,317,313\n",
            "Non-trainable params: 0\n",
            "_________________________________________________________________\n"
          ]
        }
      ]
    },
    {
      "cell_type": "code",
      "source": [
        "# Compile GRU model\n",
        "model_3.compile(loss=\"binary_crossentropy\",\n",
        "                optimizer=tf.keras.optimizers.Adam(),\n",
        "                metrics=[\"accuracy\"])"
      ],
      "metadata": {
        "id": "ejbo4eR5eZc1"
      },
      "execution_count": 46,
      "outputs": []
    },
    {
      "cell_type": "code",
      "source": [
        "# Fit the model\n",
        "model_3_history = model_3.fit(train_sentences,\n",
        "                              train_labels,\n",
        "                              epochs=5,\n",
        "                              validation_data= (val_sentences, val_labels),\n",
        "                              callbacks=[create_tensorboard_callback(SAVE_DIR,\"GRU\")])"
      ],
      "metadata": {
        "colab": {
          "base_uri": "https://localhost:8080/"
        },
        "id": "Oz84qAgpffhf",
        "outputId": "fea4c64b-ede8-46e4-e0c5-e1d97eb3d287"
      },
      "execution_count": 47,
      "outputs": [
        {
          "output_type": "stream",
          "name": "stdout",
          "text": [
            "Saving TensorBoard log files to: model_logs/GRU/20230305-005223\n",
            "Epoch 1/5\n",
            "215/215 [==============================] - 13s 44ms/step - loss: 0.5251 - accuracy: 0.7310 - val_loss: 0.4573 - val_accuracy: 0.7769\n",
            "Epoch 2/5\n",
            "215/215 [==============================] - 2s 11ms/step - loss: 0.3186 - accuracy: 0.8675 - val_loss: 0.4894 - val_accuracy: 0.7822\n",
            "Epoch 3/5\n",
            "215/215 [==============================] - 2s 10ms/step - loss: 0.2183 - accuracy: 0.9184 - val_loss: 0.5578 - val_accuracy: 0.7730\n",
            "Epoch 4/5\n",
            "215/215 [==============================] - 2s 8ms/step - loss: 0.1564 - accuracy: 0.9448 - val_loss: 0.6223 - val_accuracy: 0.7769\n",
            "Epoch 5/5\n",
            "215/215 [==============================] - 2s 9ms/step - loss: 0.1196 - accuracy: 0.9588 - val_loss: 0.6067 - val_accuracy: 0.7730\n"
          ]
        }
      ]
    },
    {
      "cell_type": "code",
      "source": [
        "# Make predictions on validation data\n",
        "model_3_pred_probs = model_3.predict(val_sentences)\n",
        "model_3_pred_probs.shape, model_3_pred_probs[:10]\n"
      ],
      "metadata": {
        "colab": {
          "base_uri": "https://localhost:8080/"
        },
        "id": "-ORbm9BEfyEk",
        "outputId": "13c6baa6-2918-4961-ca5d-ca4035e14f23"
      },
      "execution_count": 48,
      "outputs": [
        {
          "output_type": "stream",
          "name": "stdout",
          "text": [
            "24/24 [==============================] - 1s 4ms/step\n"
          ]
        },
        {
          "output_type": "execute_result",
          "data": {
            "text/plain": [
              "((762, 1), array([[0.30750743],\n",
              "        [0.902441  ],\n",
              "        [0.99634415],\n",
              "        [0.16187859],\n",
              "        [0.01427832],\n",
              "        [0.9894365 ],\n",
              "        [0.71724707],\n",
              "        [0.99729925],\n",
              "        [0.99620926],\n",
              "        [0.52437747]], dtype=float32))"
            ]
          },
          "metadata": {},
          "execution_count": 48
        }
      ]
    },
    {
      "cell_type": "code",
      "source": [
        "# Convert prediction probabilities to prediction classes\n",
        "model_3_pred = tf.squeeze(tf.round(model_3_pred_probs))\n",
        "model_3_pred[:10]"
      ],
      "metadata": {
        "colab": {
          "base_uri": "https://localhost:8080/"
        },
        "id": "Dptswd8cgVPo",
        "outputId": "497d35d2-cb70-48e8-ad5f-d05e3f02dcc9"
      },
      "execution_count": 49,
      "outputs": [
        {
          "output_type": "execute_result",
          "data": {
            "text/plain": [
              "<tf.Tensor: shape=(10,), dtype=float32, numpy=array([0., 1., 1., 0., 0., 1., 1., 1., 1., 1.], dtype=float32)>"
            ]
          },
          "metadata": {},
          "execution_count": 49
        }
      ]
    },
    {
      "cell_type": "code",
      "source": [
        "# Calculate model_3 results\n",
        "model_3_results = calculate_results(y_true= val_labels,\n",
        "                                    y_pred= model_3_pred)\n",
        "model_3_results"
      ],
      "metadata": {
        "colab": {
          "base_uri": "https://localhost:8080/"
        },
        "id": "kkudHK1JgjeJ",
        "outputId": "10c74a68-c60a-4bbe-b7f2-b0722ac64031"
      },
      "execution_count": 50,
      "outputs": [
        {
          "output_type": "execute_result",
          "data": {
            "text/plain": [
              "{'accuracy': 0.7729658792650919,\n",
              " 'precision': 0.7728481089662449,\n",
              " 'recall': 0.7729658792650919,\n",
              " 'f1': 0.7720634753279543}"
            ]
          },
          "metadata": {},
          "execution_count": 50
        }
      ]
    },
    {
      "cell_type": "code",
      "source": [
        "# Compare to baseline\n",
        "compare_baseline_to_new_results(baseline_results, model_3_results)"
      ],
      "metadata": {
        "colab": {
          "base_uri": "https://localhost:8080/"
        },
        "id": "UtZ2mVLxg0KU",
        "outputId": "7fe58dcd-1547-48ba-b052-60423d4c5fdb"
      },
      "execution_count": 51,
      "outputs": [
        {
          "output_type": "stream",
          "name": "stdout",
          "text": [
            "Baseline accuracy: 0.79, New accuracy: 0.77, Difference: -0.02\n",
            "Baseline precision: 0.81, New precision: 0.77, Difference: -0.04\n",
            "Baseline recall: 0.79, New recall: 0.77, Difference: -0.02\n",
            "Baseline f1: 0.79, New f1: 0.77, Difference: -0.01\n"
          ]
        }
      ]
    },
    {
      "cell_type": "markdown",
      "source": [
        "### Model_4: Bidirectonal RNN."
      ],
      "metadata": {
        "id": "f80BAwMUhKZT"
      }
    },
    {
      "cell_type": "code",
      "source": [
        "# Create embedding layer\n",
        "model_4_embedding = layers.Embedding(input_dim=max_vocab_length,\n",
        "                                     output_dim=128,\n",
        "                                     embeddings_initializer=\"uniform\",\n",
        "                                     input_length=max_length,\n",
        "                                     name=\"embedding_4\")\n",
        "\n",
        "# Build a bidirectional RNN in Tensorflow\n",
        "inputs = layers.Input(shape= (1,), dtype= \"string\")\n",
        "x = text_vectorizer(inputs)\n",
        "x = model_4_embedding(x)\n",
        "x = layers.Bidirectional(layers.LSTM(64))(x)\n",
        "outputs = layers.Dense(1, activation=\"sigmoid\")(x)\n",
        "model_4 = tf.keras.Model(inputs, outputs, name=\"model_4_Bidirectional\")"
      ],
      "metadata": {
        "id": "2LmTPiJZmVT7"
      },
      "execution_count": 52,
      "outputs": []
    },
    {
      "cell_type": "code",
      "source": [
        "# Get a summary\n",
        "model_4.summary()"
      ],
      "metadata": {
        "colab": {
          "base_uri": "https://localhost:8080/"
        },
        "id": "Hne4pVglo_o7",
        "outputId": "a1101b4d-90f2-4a97-8768-a7d77b6a0c00"
      },
      "execution_count": 53,
      "outputs": [
        {
          "output_type": "stream",
          "name": "stdout",
          "text": [
            "Model: \"model_4_Bidirectional\"\n",
            "_________________________________________________________________\n",
            " Layer (type)                Output Shape              Param #   \n",
            "=================================================================\n",
            " input_4 (InputLayer)        [(None, 1)]               0         \n",
            "                                                                 \n",
            " text_vectorization (TextVec  (None, 15)               0         \n",
            " torization)                                                     \n",
            "                                                                 \n",
            " embedding_4 (Embedding)     (None, 15, 128)           1280000   \n",
            "                                                                 \n",
            " bidirectional (Bidirectiona  (None, 128)              98816     \n",
            " l)                                                              \n",
            "                                                                 \n",
            " dense_3 (Dense)             (None, 1)                 129       \n",
            "                                                                 \n",
            "=================================================================\n",
            "Total params: 1,378,945\n",
            "Trainable params: 1,378,945\n",
            "Non-trainable params: 0\n",
            "_________________________________________________________________\n"
          ]
        }
      ]
    },
    {
      "cell_type": "code",
      "source": [
        "# Compile model\n",
        "model_4.compile(loss=\"binary_crossentropy\",\n",
        "                optimizer=tf.keras.optimizers.Adam(),\n",
        "                metrics=[\"accuracy\"])"
      ],
      "metadata": {
        "id": "nkSjDrWSpu8G"
      },
      "execution_count": 54,
      "outputs": []
    },
    {
      "cell_type": "code",
      "source": [
        "# Fit the model\n",
        "model_4_history = model_4.fit(train_sentences,\n",
        "                              train_labels,\n",
        "                              epochs=5,\n",
        "                              validation_data = (val_sentences, val_labels),\n",
        "                              callbacks= [create_tensorboard_callback(SAVE_DIR, \"bidirectional_RNN\")])"
      ],
      "metadata": {
        "colab": {
          "base_uri": "https://localhost:8080/"
        },
        "id": "WsUA7qlesUYm",
        "outputId": "584b82ae-8844-4c57-93e4-9a841f006cdd"
      },
      "execution_count": 55,
      "outputs": [
        {
          "output_type": "stream",
          "name": "stdout",
          "text": [
            "Saving TensorBoard log files to: model_logs/bidirectional_RNN/20230305-005248\n",
            "Epoch 1/5\n",
            "215/215 [==============================] - 16s 51ms/step - loss: 0.5090 - accuracy: 0.7469 - val_loss: 0.4591 - val_accuracy: 0.7822\n",
            "Epoch 2/5\n",
            "215/215 [==============================] - 3s 12ms/step - loss: 0.3118 - accuracy: 0.8751 - val_loss: 0.5288 - val_accuracy: 0.7730\n",
            "Epoch 3/5\n",
            "215/215 [==============================] - 3s 12ms/step - loss: 0.2096 - accuracy: 0.9212 - val_loss: 0.5734 - val_accuracy: 0.7743\n",
            "Epoch 4/5\n",
            "215/215 [==============================] - 2s 11ms/step - loss: 0.1419 - accuracy: 0.9517 - val_loss: 0.6430 - val_accuracy: 0.7822\n",
            "Epoch 5/5\n",
            "215/215 [==============================] - 3s 13ms/step - loss: 0.0994 - accuracy: 0.9651 - val_loss: 0.7195 - val_accuracy: 0.7677\n"
          ]
        }
      ]
    },
    {
      "cell_type": "code",
      "source": [
        "# Make predictions with bidirectional RNN on the validation data\n",
        "model_4_pred_probs = model_4.predict(val_sentences)\n",
        "model_4_pred_probs[:10]"
      ],
      "metadata": {
        "colab": {
          "base_uri": "https://localhost:8080/"
        },
        "id": "d-AsLreHs4Xf",
        "outputId": "6253d579-a57a-4a25-bf02-29b758c6840a"
      },
      "execution_count": 56,
      "outputs": [
        {
          "output_type": "stream",
          "name": "stdout",
          "text": [
            "24/24 [==============================] - 1s 4ms/step\n"
          ]
        },
        {
          "output_type": "execute_result",
          "data": {
            "text/plain": [
              "array([[0.03013844],\n",
              "       [0.8001734 ],\n",
              "       [0.9995055 ],\n",
              "       [0.14416444],\n",
              "       [0.00202807],\n",
              "       [0.99730694],\n",
              "       [0.91770506],\n",
              "       [0.9996495 ],\n",
              "       [0.99949443],\n",
              "       [0.19597304]], dtype=float32)"
            ]
          },
          "metadata": {},
          "execution_count": 56
        }
      ]
    },
    {
      "cell_type": "code",
      "source": [
        "# Convert prediction probabilities to labels\n",
        "model_4_preds = tf.squeeze(tf.round(model_4_pred_probs))\n",
        "model_4_preds[:10]"
      ],
      "metadata": {
        "colab": {
          "base_uri": "https://localhost:8080/"
        },
        "id": "JZPZWv6UtDJA",
        "outputId": "cc8dc529-4c8d-4138-d5eb-10ed22269c20"
      },
      "execution_count": 57,
      "outputs": [
        {
          "output_type": "execute_result",
          "data": {
            "text/plain": [
              "<tf.Tensor: shape=(10,), dtype=float32, numpy=array([0., 1., 1., 0., 0., 1., 1., 1., 1., 0.], dtype=float32)>"
            ]
          },
          "metadata": {},
          "execution_count": 57
        }
      ]
    },
    {
      "cell_type": "code",
      "source": [
        "# Calculate bidirectional RNN model results\n",
        "model_4_results = calculate_results(val_labels, model_4_preds)\n",
        "model_4_results"
      ],
      "metadata": {
        "colab": {
          "base_uri": "https://localhost:8080/"
        },
        "id": "Q2QqexJPtHE4",
        "outputId": "370c83bb-ff1d-4443-b128-d15a9a3cbbac"
      },
      "execution_count": 58,
      "outputs": [
        {
          "output_type": "execute_result",
          "data": {
            "text/plain": [
              "{'accuracy': 0.7677165354330708,\n",
              " 'precision': 0.7679905783589133,\n",
              " 'recall': 0.7677165354330708,\n",
              " 'f1': 0.7663871505080737}"
            ]
          },
          "metadata": {},
          "execution_count": 58
        }
      ]
    },
    {
      "cell_type": "code",
      "source": [
        "# Check to see how the bidirectional model performs against the baseline\n",
        "compare_baseline_to_new_results(baseline_results, model_4_results)"
      ],
      "metadata": {
        "colab": {
          "base_uri": "https://localhost:8080/"
        },
        "id": "zZ3XK5hVtI5m",
        "outputId": "5ed8955e-80e0-44c0-ce36-0b1111d03a3c"
      },
      "execution_count": 59,
      "outputs": [
        {
          "output_type": "stream",
          "name": "stdout",
          "text": [
            "Baseline accuracy: 0.79, New accuracy: 0.77, Difference: -0.02\n",
            "Baseline precision: 0.81, New precision: 0.77, Difference: -0.04\n",
            "Baseline recall: 0.79, New recall: 0.77, Difference: -0.02\n",
            "Baseline f1: 0.79, New f1: 0.77, Difference: -0.02\n"
          ]
        }
      ]
    },
    {
      "cell_type": "markdown",
      "source": [
        " ### Model_5: Conv1D"
      ],
      "metadata": {
        "id": "5BJWVF2XtKRA"
      }
    },
    {
      "cell_type": "code",
      "source": [
        "from tensorflow.keras import layers\n",
        "\n",
        "model_5_embedding = layers.Embedding(input_dim=max_vocab_length,\n",
        "                                     output_dim=128,\n",
        "                                     embeddings_initializer=\"uniform\",\n",
        "                                     input_length=max_length,\n",
        "                                     name=\"embedding_5\")\n",
        "# Create 1-dimensional convolutional layer to model sequence.\n",
        "inputs = layers.Input(shape=(1,), dtype=tf.string)\n",
        "x = text_vectorizer(inputs)\n",
        "x = embedding(x)\n",
        "x = layers.Conv1D(filters=64, kernel_size=5, strides=1, activation=\"relu\", padding=\"valid\")(x)\n",
        "x = layers.GlobalMaxPool1D()(x)\n",
        "outputs = layers.Dense(1,activation=\"sigmoid\")(x)\n",
        "model_5 = tf.keras.Model(inputs, outputs, name=\"model_5_Conv1D\")\n",
        "\n",
        "# Compile Conv1D\n",
        "model_5.compile(loss=\"binary_crossentropy\",\n",
        "                optimizer= tf.keras.optimizers.Adam(),\n",
        "                metrics=[\"accuracy\"])\n",
        "\n",
        "model_5.summary()"
      ],
      "metadata": {
        "id": "gCLMgXB2xUV5",
        "colab": {
          "base_uri": "https://localhost:8080/"
        },
        "outputId": "91a901d5-f59e-47f6-832d-0711791d1bf8"
      },
      "execution_count": 60,
      "outputs": [
        {
          "output_type": "stream",
          "name": "stdout",
          "text": [
            "Model: \"model_5_Conv1D\"\n",
            "_________________________________________________________________\n",
            " Layer (type)                Output Shape              Param #   \n",
            "=================================================================\n",
            " input_5 (InputLayer)        [(None, 1)]               0         \n",
            "                                                                 \n",
            " text_vectorization (TextVec  (None, 15)               0         \n",
            " torization)                                                     \n",
            "                                                                 \n",
            " embedding_1 (Embedding)     (None, 15, 128)           1280000   \n",
            "                                                                 \n",
            " conv1d (Conv1D)             (None, 11, 64)            41024     \n",
            "                                                                 \n",
            " global_max_pooling1d (Globa  (None, 64)               0         \n",
            " lMaxPooling1D)                                                  \n",
            "                                                                 \n",
            " dense_4 (Dense)             (None, 1)                 65        \n",
            "                                                                 \n",
            "=================================================================\n",
            "Total params: 1,321,089\n",
            "Trainable params: 1,321,089\n",
            "Non-trainable params: 0\n",
            "_________________________________________________________________\n"
          ]
        }
      ]
    },
    {
      "cell_type": "code",
      "source": [
        "# Fit the model\n",
        "model_5_history = model_5.fit(train_sentences,\n",
        "                              train_labels,\n",
        "                              epochs=5,\n",
        "                              validation_data=(val_sentences, val_labels),\n",
        "                              callbacks=[create_tensorboard_callback(SAVE_DIR,\n",
        "                                                                     \"Conv1D\")])"
      ],
      "metadata": {
        "colab": {
          "base_uri": "https://localhost:8080/"
        },
        "id": "XBbRiwdFvpNA",
        "outputId": "79c7e9ea-6f8f-4b06-e784-9c49c98c7e44"
      },
      "execution_count": 61,
      "outputs": [
        {
          "output_type": "stream",
          "name": "stdout",
          "text": [
            "Saving TensorBoard log files to: model_logs/Conv1D/20230305-005335\n",
            "Epoch 1/5\n",
            "215/215 [==============================] - 14s 38ms/step - loss: 0.2282 - accuracy: 0.9114 - val_loss: 0.5517 - val_accuracy: 0.7927\n",
            "Epoch 2/5\n",
            "215/215 [==============================] - 2s 10ms/step - loss: 0.1732 - accuracy: 0.9327 - val_loss: 0.6432 - val_accuracy: 0.7822\n",
            "Epoch 3/5\n",
            "215/215 [==============================] - 2s 9ms/step - loss: 0.1352 - accuracy: 0.9486 - val_loss: 0.6902 - val_accuracy: 0.7822\n",
            "Epoch 4/5\n",
            "215/215 [==============================] - 2s 8ms/step - loss: 0.1066 - accuracy: 0.9600 - val_loss: 0.7728 - val_accuracy: 0.7769\n",
            "Epoch 5/5\n",
            "215/215 [==============================] - 2s 8ms/step - loss: 0.0829 - accuracy: 0.9692 - val_loss: 0.8825 - val_accuracy: 0.7795\n"
          ]
        }
      ]
    },
    {
      "cell_type": "code",
      "source": [
        "# Make some predictions with our Conv1D model\n",
        "model_5_pred_probs = model_5.predict(val_sentences)\n",
        "model_5_pred_probs[:10]"
      ],
      "metadata": {
        "id": "dM6wdcOgwkrd",
        "colab": {
          "base_uri": "https://localhost:8080/"
        },
        "outputId": "174e2d05-0a76-482c-812a-bb72161667d6"
      },
      "execution_count": 62,
      "outputs": [
        {
          "output_type": "stream",
          "name": "stdout",
          "text": [
            "24/24 [==============================] - 0s 3ms/step\n"
          ]
        },
        {
          "output_type": "execute_result",
          "data": {
            "text/plain": [
              "array([[5.8327073e-01],\n",
              "       [6.1110717e-01],\n",
              "       [9.9996686e-01],\n",
              "       [2.8015751e-02],\n",
              "       [1.6865013e-05],\n",
              "       [9.9583483e-01],\n",
              "       [9.9903595e-01],\n",
              "       [9.9951601e-01],\n",
              "       [9.9994648e-01],\n",
              "       [5.3710127e-01]], dtype=float32)"
            ]
          },
          "metadata": {},
          "execution_count": 62
        }
      ]
    },
    {
      "cell_type": "code",
      "source": [
        "# Convert model 5 pred probs to labels\n",
        "model_5_preds = tf.squeeze(tf.round(model_5_pred_probs))\n",
        "model_5_preds[:10]"
      ],
      "metadata": {
        "colab": {
          "base_uri": "https://localhost:8080/"
        },
        "id": "PfuefX7gzxAz",
        "outputId": "570c8c25-d286-44b2-b08c-ab11944bbb06"
      },
      "execution_count": 63,
      "outputs": [
        {
          "output_type": "execute_result",
          "data": {
            "text/plain": [
              "<tf.Tensor: shape=(10,), dtype=float32, numpy=array([1., 1., 1., 0., 0., 1., 1., 1., 1., 1.], dtype=float32)>"
            ]
          },
          "metadata": {},
          "execution_count": 63
        }
      ]
    },
    {
      "cell_type": "code",
      "source": [
        "# Evaluate model 5 predictions\n",
        "model_5_results = calculate_results(y_true= val_labels,\n",
        "                                    y_pred= model_5_preds)\n",
        "\n",
        "model_5_results"
      ],
      "metadata": {
        "colab": {
          "base_uri": "https://localhost:8080/"
        },
        "id": "Twm65Vlmz8P2",
        "outputId": "b83786c0-bbf7-449a-cc99-98f5acd0d8b4"
      },
      "execution_count": 64,
      "outputs": [
        {
          "output_type": "execute_result",
          "data": {
            "text/plain": [
              "{'accuracy': 0.7795275590551181,\n",
              " 'precision': 0.7816545659065345,\n",
              " 'recall': 0.7795275590551181,\n",
              " 'f1': 0.7774022539420016}"
            ]
          },
          "metadata": {},
          "execution_count": 64
        }
      ]
    },
    {
      "cell_type": "code",
      "source": [
        "# Compare model_5 results to baseline\n",
        "compare_baseline_to_new_results(baseline_results, model_5_results)"
      ],
      "metadata": {
        "colab": {
          "base_uri": "https://localhost:8080/"
        },
        "id": "Eq7SBIUH0LcN",
        "outputId": "0402752a-a09c-4a57-ad12-39e4f13a0d92"
      },
      "execution_count": 65,
      "outputs": [
        {
          "output_type": "stream",
          "name": "stdout",
          "text": [
            "Baseline accuracy: 0.79, New accuracy: 0.78, Difference: -0.01\n",
            "Baseline precision: 0.81, New precision: 0.78, Difference: -0.03\n",
            "Baseline recall: 0.79, New recall: 0.78, Difference: -0.01\n",
            "Baseline f1: 0.79, New f1: 0.78, Difference: -0.01\n"
          ]
        }
      ]
    },
    {
      "cell_type": "markdown",
      "source": [
        "### Model_6: Transfer learning for NLP.\n",
        "\n",
        "In this oportunity, we're going to be using the Universal Sentences Enconder from Tensorflow Hub."
      ],
      "metadata": {
        "id": "OyxLrcI80tRd"
      }
    },
    {
      "cell_type": "code",
      "source": [
        "sample_sentence= \"There's a flood in my street!\""
      ],
      "metadata": {
        "id": "bXuTUmwg5iSi"
      },
      "execution_count": 66,
      "outputs": []
    },
    {
      "cell_type": "code",
      "source": [
        "import tensorflow_hub as hub\n",
        "embed = hub.load(\"https://tfhub.dev/google/universal-sentence-encoder/4\") # load Universal Sentence Encoder\n",
        "embed_samples = embed([sample_sentence,\n",
        "                      \"When you call the universal sentence encoder on a sentence, it turns it into numbers.\"])\n",
        "\n",
        "print(embed_samples[0][:50]), embed_samples.shape"
      ],
      "metadata": {
        "colab": {
          "base_uri": "https://localhost:8080/"
        },
        "id": "t7cC00zT29_o",
        "outputId": "264d2964-0ced-45c1-9073-fdb88d0a6657"
      },
      "execution_count": 67,
      "outputs": [
        {
          "output_type": "stream",
          "name": "stdout",
          "text": [
            "tf.Tensor(\n",
            "[-0.01157028  0.0248591   0.02878048 -0.012715    0.03971538  0.0882776\n",
            "  0.02680984  0.05589836 -0.0106873  -0.00597291  0.00639323 -0.01819518\n",
            "  0.00030813  0.09105888  0.05874644 -0.03180628  0.01512474 -0.05162929\n",
            "  0.00991367 -0.06865347 -0.04209306  0.02678981  0.03011006  0.00321069\n",
            " -0.00337973 -0.04787357  0.0226672  -0.00985925 -0.04063613 -0.01292092\n",
            " -0.04666384  0.05630299 -0.03949255  0.00517686  0.02495829 -0.0701444\n",
            "  0.02871508  0.04947684 -0.00633979 -0.08960192  0.02807118 -0.00808364\n",
            " -0.01360602  0.0599865  -0.10361787 -0.05195374  0.00232954 -0.02332531\n",
            " -0.03758105  0.03327728], shape=(50,), dtype=float32)\n"
          ]
        },
        {
          "output_type": "execute_result",
          "data": {
            "text/plain": [
              "(None, TensorShape([2, 512]))"
            ]
          },
          "metadata": {},
          "execution_count": 67
        }
      ]
    },
    {
      "cell_type": "markdown",
      "source": [
        "Passing our sentences to the Universal Sentence Encoder (USE) encodes them from strings to 512 dimensional vectors, which make no sense to us but hopefully make sense to our machine learning models."
      ],
      "metadata": {
        "id": "iMPkrgwJ6hQ6"
      }
    },
    {
      "cell_type": "code",
      "source": [
        "# We can use this encoding layer in place of our text_vectorizer and embedding layer\n",
        "sentence_encoder_layer = hub.KerasLayer(\"https://tfhub.dev/google/universal-sentence-encoder/4\",\n",
        "                                        input_shape=[], # shape of inputs coming to our model \n",
        "                                        dtype=tf.string, # data type of inputs coming to the USE layer\n",
        "                                        trainable=False, # keep the pretrained weights (we'll create a feature extractor)\n",
        "                                        name=\"USE\") "
      ],
      "metadata": {
        "colab": {
          "base_uri": "https://localhost:8080/"
        },
        "id": "dSTFIuUz3uu_",
        "outputId": "6667c299-124c-4bf1-efc6-853dabd30edf"
      },
      "execution_count": 68,
      "outputs": [
        {
          "output_type": "stream",
          "name": "stderr",
          "text": [
            "WARNING:tensorflow:Please fix your imports. Module tensorflow.python.training.tracking.data_structures has been moved to tensorflow.python.trackable.data_structures. The old module will be deleted in version 2.11.\n"
          ]
        }
      ]
    },
    {
      "cell_type": "code",
      "source": [
        "# Create model using the Sequential API\n",
        "model_6 = tf.keras.Sequential([\n",
        "    sentence_encoder_layer,\n",
        "    layers.Dense(64, activation=\"relu\"),\n",
        "    layers.Dense(1,activation=\"sigmoid\")\n",
        "], name = \"model_6_USE\")\n",
        "\n",
        "# Compile the model\n",
        "model_6.compile(loss=\"binary_crossentropy\",\n",
        "                optimizer= tf.keras.optimizers.Adam(),\n",
        "                metrics=[\"accuracy\"])\n",
        "\n",
        "model_6.summary()\n"
      ],
      "metadata": {
        "colab": {
          "base_uri": "https://localhost:8080/"
        },
        "id": "pcPi9VrK6itF",
        "outputId": "967e0990-7969-4353-8fab-b2883df81462"
      },
      "execution_count": 69,
      "outputs": [
        {
          "output_type": "stream",
          "name": "stderr",
          "text": [
            "WARNING:tensorflow:From /usr/local/lib/python3.8/dist-packages/tensorflow/python/autograph/pyct/static_analysis/liveness.py:83: Analyzer.lamba_check (from tensorflow.python.autograph.pyct.static_analysis.liveness) is deprecated and will be removed after 2023-09-23.\n",
            "Instructions for updating:\n",
            "Lambda fuctions will be no more assumed to be used in the statement where they are used, or at least in the same block. https://github.com/tensorflow/tensorflow/issues/56089\n"
          ]
        },
        {
          "output_type": "stream",
          "name": "stdout",
          "text": [
            "Model: \"model_6_USE\"\n",
            "_________________________________________________________________\n",
            " Layer (type)                Output Shape              Param #   \n",
            "=================================================================\n",
            " USE (KerasLayer)            (None, 512)               256797824 \n",
            "                                                                 \n",
            " dense_5 (Dense)             (None, 64)                32832     \n",
            "                                                                 \n",
            " dense_6 (Dense)             (None, 1)                 65        \n",
            "                                                                 \n",
            "=================================================================\n",
            "Total params: 256,830,721\n",
            "Trainable params: 32,897\n",
            "Non-trainable params: 256,797,824\n",
            "_________________________________________________________________\n"
          ]
        }
      ]
    },
    {
      "cell_type": "code",
      "source": [
        "# Train a classifier on top of Use pretrained embeddings\n",
        "model_6_history = model_6.fit(train_sentences,\n",
        "                              train_labels,\n",
        "                              epochs=5,\n",
        "                              validation_data=(val_sentences, val_labels),\n",
        "                              callbacks=[create_tensorboard_callback(SAVE_DIR,\n",
        "                                                                     \"tf_hub_sentence_encoder\")])"
      ],
      "metadata": {
        "colab": {
          "base_uri": "https://localhost:8080/"
        },
        "id": "LM3Fwkq28vhz",
        "outputId": "3318d167-5729-4abe-bbb6-73316489609b"
      },
      "execution_count": 70,
      "outputs": [
        {
          "output_type": "stream",
          "name": "stdout",
          "text": [
            "Saving TensorBoard log files to: model_logs/tf_hub_sentence_encoder/20230305-005421\n",
            "Epoch 1/5\n",
            "215/215 [==============================] - 8s 19ms/step - loss: 0.5028 - accuracy: 0.7853 - val_loss: 0.4468 - val_accuracy: 0.7953\n",
            "Epoch 2/5\n",
            "215/215 [==============================] - 3s 13ms/step - loss: 0.4149 - accuracy: 0.8152 - val_loss: 0.4350 - val_accuracy: 0.8123\n",
            "Epoch 3/5\n",
            "215/215 [==============================] - 3s 12ms/step - loss: 0.3997 - accuracy: 0.8231 - val_loss: 0.4305 - val_accuracy: 0.8136\n",
            "Epoch 4/5\n",
            "215/215 [==============================] - 3s 13ms/step - loss: 0.3920 - accuracy: 0.8266 - val_loss: 0.4258 - val_accuracy: 0.8110\n",
            "Epoch 5/5\n",
            "215/215 [==============================] - 4s 17ms/step - loss: 0.3854 - accuracy: 0.8302 - val_loss: 0.4271 - val_accuracy: 0.8150\n"
          ]
        }
      ]
    },
    {
      "cell_type": "code",
      "source": [
        "# Make predictions with USE TF Hub model\n",
        "model_6_pred_probs = model_6.predict(val_sentences)\n",
        "model_6_pred_probs[:10]\n",
        "model_6_pred_probs.shape"
      ],
      "metadata": {
        "colab": {
          "base_uri": "https://localhost:8080/"
        },
        "id": "LG_PwGgA9TR2",
        "outputId": "d66c67db-91ee-4839-da2e-79866c2a527b"
      },
      "execution_count": 71,
      "outputs": [
        {
          "output_type": "stream",
          "name": "stdout",
          "text": [
            "24/24 [==============================] - 1s 10ms/step\n"
          ]
        },
        {
          "output_type": "execute_result",
          "data": {
            "text/plain": [
              "(762, 1)"
            ]
          },
          "metadata": {},
          "execution_count": 71
        }
      ]
    },
    {
      "cell_type": "code",
      "source": [
        "# Convert prediction probabilities to labels\n",
        "model_6_preds = tf.squeeze(tf.round(model_6_pred_probs))\n",
        "model_6_preds[:5]\n"
      ],
      "metadata": {
        "colab": {
          "base_uri": "https://localhost:8080/"
        },
        "id": "DBLJNr3395Gj",
        "outputId": "9548a2d6-b72f-4a77-f3be-788547922647"
      },
      "execution_count": 72,
      "outputs": [
        {
          "output_type": "execute_result",
          "data": {
            "text/plain": [
              "<tf.Tensor: shape=(5,), dtype=float32, numpy=array([0., 1., 1., 0., 1.], dtype=float32)>"
            ]
          },
          "metadata": {},
          "execution_count": 72
        }
      ]
    },
    {
      "cell_type": "code",
      "source": [
        "# Calculate model 6 perfomance metrics\n",
        "model_6_results = calculate_results(val_labels, model_6_preds)\n",
        "model_6_results"
      ],
      "metadata": {
        "colab": {
          "base_uri": "https://localhost:8080/"
        },
        "id": "YCbD9HLH-Idb",
        "outputId": "c6309521-2e77-4f0b-a2ed-55817b2b011d"
      },
      "execution_count": 73,
      "outputs": [
        {
          "output_type": "execute_result",
          "data": {
            "text/plain": [
              "{'accuracy': 0.8149606299212598,\n",
              " 'precision': 0.8179063565195398,\n",
              " 'recall': 0.8149606299212598,\n",
              " 'f1': 0.8132300658103407}"
            ]
          },
          "metadata": {},
          "execution_count": 73
        }
      ]
    },
    {
      "cell_type": "code",
      "source": [
        "# Compate TF Hub model to baseline\n",
        "compare_baseline_to_new_results(baseline_results, model_6_results)"
      ],
      "metadata": {
        "colab": {
          "base_uri": "https://localhost:8080/"
        },
        "id": "dtzcKOnS-lvw",
        "outputId": "58a96b13-b12f-45cf-ac21-c9aab7275bce"
      },
      "execution_count": 74,
      "outputs": [
        {
          "output_type": "stream",
          "name": "stdout",
          "text": [
            "Baseline accuracy: 0.79, New accuracy: 0.81, Difference: 0.02\n",
            "Baseline precision: 0.81, New precision: 0.82, Difference: 0.01\n",
            "Baseline recall: 0.79, New recall: 0.81, Difference: 0.02\n",
            "Baseline f1: 0.79, New f1: 0.81, Difference: 0.03\n"
          ]
        }
      ]
    },
    {
      "cell_type": "markdown",
      "source": [
        "### Model_7: TensorFlow Hub Pretrained Feature Extracture (10% of data)"
      ],
      "metadata": {
        "id": "76I8O_eS_AGM"
      }
    },
    {
      "cell_type": "code",
      "source": [
        "# Create subsets of 10% of the training data\n",
        "train_sentences_90_percent, train_sentences_10_percent, train_labels_90_percent, train_labels_10_percent = train_test_split(np.array(train_sentences),\n",
        "                                                                                                                            train_labels,\n",
        "                                                                                                                            test_size=0.1,\n",
        "                                                                                                                            random_state=42)"
      ],
      "metadata": {
        "id": "ALg39PQlAJDv"
      },
      "execution_count": 75,
      "outputs": []
    },
    {
      "cell_type": "code",
      "source": [
        "# Check length of 10 percent datasets\n",
        "print(f\"Total training examples: {len(train_sentences)}\")\n",
        "print(f\"Length of 10% training examples: {len(train_sentences_10_percent)}\")"
      ],
      "metadata": {
        "colab": {
          "base_uri": "https://localhost:8080/"
        },
        "id": "MNEzhNGZBdkI",
        "outputId": "de8557a0-ca32-4059-e6a9-53cd9a179ada"
      },
      "execution_count": 76,
      "outputs": [
        {
          "output_type": "stream",
          "name": "stdout",
          "text": [
            "Total training examples: 6851\n",
            "Length of 10% training examples: 686\n"
          ]
        }
      ]
    },
    {
      "cell_type": "code",
      "source": [
        "# Clone model_6\n",
        "model_7 = tf.keras.models.clone_model(model_6)\n",
        "\n",
        "# Compile model_7\n",
        "model_7.compile(loss=\"binary_crossentropy\",\n",
        "                optimizer= tf.keras.optimizers.Adam(),\n",
        "                metrics=[\"accuracy\"])\n",
        "\n",
        "# Get a summary\n",
        "model_7.summary()"
      ],
      "metadata": {
        "colab": {
          "base_uri": "https://localhost:8080/"
        },
        "id": "w_CiQFGoESTq",
        "outputId": "0f6195dd-84aa-48f2-af65-57c944a3bd58"
      },
      "execution_count": 77,
      "outputs": [
        {
          "output_type": "stream",
          "name": "stdout",
          "text": [
            "Model: \"model_6_USE\"\n",
            "_________________________________________________________________\n",
            " Layer (type)                Output Shape              Param #   \n",
            "=================================================================\n",
            " USE (KerasLayer)            (None, 512)               256797824 \n",
            "                                                                 \n",
            " dense_5 (Dense)             (None, 64)                32832     \n",
            "                                                                 \n",
            " dense_6 (Dense)             (None, 1)                 65        \n",
            "                                                                 \n",
            "=================================================================\n",
            "Total params: 256,830,721\n",
            "Trainable params: 32,897\n",
            "Non-trainable params: 256,797,824\n",
            "_________________________________________________________________\n"
          ]
        }
      ]
    },
    {
      "cell_type": "code",
      "source": [
        "# Fit the model to 10% of the training data\n",
        "model_7_history = model_7.fit(x=train_sentences_10_percent,\n",
        "                              y=train_labels_10_percent,\n",
        "                              epochs=5,\n",
        "                              validation_data= (val_sentences, val_labels),\n",
        "                              callbacks=[create_tensorboard_callback(SAVE_DIR, \"10_percent_tf_hub_sentence_encoder\")])"
      ],
      "metadata": {
        "colab": {
          "base_uri": "https://localhost:8080/"
        },
        "id": "17gSPTXPI6-F",
        "outputId": "79856916-3744-43da-ec1b-810feb10be62"
      },
      "execution_count": 78,
      "outputs": [
        {
          "output_type": "stream",
          "name": "stdout",
          "text": [
            "Saving TensorBoard log files to: model_logs/10_percent_tf_hub_sentence_encoder/20230305-005451\n",
            "Epoch 1/5\n",
            "22/22 [==============================] - 5s 48ms/step - loss: 0.6728 - accuracy: 0.6910 - val_loss: 0.6552 - val_accuracy: 0.6903\n",
            "Epoch 2/5\n",
            "22/22 [==============================] - 1s 23ms/step - loss: 0.6054 - accuracy: 0.8076 - val_loss: 0.6005 - val_accuracy: 0.7362\n",
            "Epoch 3/5\n",
            "22/22 [==============================] - 1s 24ms/step - loss: 0.5294 - accuracy: 0.8251 - val_loss: 0.5452 - val_accuracy: 0.7598\n",
            "Epoch 4/5\n",
            "22/22 [==============================] - 1s 27ms/step - loss: 0.4630 - accuracy: 0.8353 - val_loss: 0.5106 - val_accuracy: 0.7651\n",
            "Epoch 5/5\n",
            "22/22 [==============================] - 1s 24ms/step - loss: 0.4175 - accuracy: 0.8426 - val_loss: 0.4920 - val_accuracy: 0.7730\n"
          ]
        }
      ]
    },
    {
      "cell_type": "code",
      "source": [
        "# Make predictions wit the model trained on 10% of the data\n",
        "model_7_pred_probs = model_7.predict(val_sentences)\n",
        "model_7_pred_probs[:5]"
      ],
      "metadata": {
        "colab": {
          "base_uri": "https://localhost:8080/"
        },
        "id": "sy-cYyr-K7Cx",
        "outputId": "f5b8e936-5642-4f63-e0a2-820f2e146125"
      },
      "execution_count": 79,
      "outputs": [
        {
          "output_type": "stream",
          "name": "stdout",
          "text": [
            "24/24 [==============================] - 1s 10ms/step\n"
          ]
        },
        {
          "output_type": "execute_result",
          "data": {
            "text/plain": [
              "array([[0.27574942],\n",
              "       [0.80887794],\n",
              "       [0.8949982 ],\n",
              "       [0.3226107 ],\n",
              "       [0.5698874 ]], dtype=float32)"
            ]
          },
          "metadata": {},
          "execution_count": 79
        }
      ]
    },
    {
      "cell_type": "code",
      "source": [
        "# Convert prediction probabilities to labels\n",
        "model_7_preds = tf.squeeze(tf.round(model_7_pred_probs))\n",
        "model_7_preds[:5]"
      ],
      "metadata": {
        "colab": {
          "base_uri": "https://localhost:8080/"
        },
        "id": "jcjBf1DJL_Wi",
        "outputId": "d7df043f-cd90-4492-d12e-8a6e5ef4c82f"
      },
      "execution_count": 80,
      "outputs": [
        {
          "output_type": "execute_result",
          "data": {
            "text/plain": [
              "<tf.Tensor: shape=(5,), dtype=float32, numpy=array([0., 1., 1., 0., 1.], dtype=float32)>"
            ]
          },
          "metadata": {},
          "execution_count": 80
        }
      ]
    },
    {
      "cell_type": "code",
      "source": [
        "# Calculate model results\n",
        "model_7_results = calculate_results(val_labels, model_7_preds)\n",
        "model_7_results"
      ],
      "metadata": {
        "colab": {
          "base_uri": "https://localhost:8080/"
        },
        "id": "N_m-dwpnMVio",
        "outputId": "4f7662b5-20ce-4751-ddb1-c9f76cc25be6"
      },
      "execution_count": 81,
      "outputs": [
        {
          "output_type": "execute_result",
          "data": {
            "text/plain": [
              "{'accuracy': 0.7729658792650919,\n",
              " 'precision': 0.7774632689285239,\n",
              " 'recall': 0.7729658792650919,\n",
              " 'f1': 0.7696944315968833}"
            ]
          },
          "metadata": {},
          "execution_count": 81
        }
      ]
    },
    {
      "cell_type": "code",
      "source": [
        "# Compare to baseline\n",
        "compare_baseline_to_new_results(baseline_results,model_7_results)"
      ],
      "metadata": {
        "colab": {
          "base_uri": "https://localhost:8080/"
        },
        "id": "uCKO0UHAMhmq",
        "outputId": "68e99f8d-2ce4-4646-f374-151166c93ab9"
      },
      "execution_count": 82,
      "outputs": [
        {
          "output_type": "stream",
          "name": "stdout",
          "text": [
            "Baseline accuracy: 0.79, New accuracy: 0.77, Difference: -0.02\n",
            "Baseline precision: 0.81, New precision: 0.78, Difference: -0.03\n",
            "Baseline recall: 0.79, New recall: 0.77, Difference: -0.02\n",
            "Baseline f1: 0.79, New f1: 0.77, Difference: -0.02\n"
          ]
        }
      ]
    },
    {
      "cell_type": "markdown",
      "source": [
        "## Comparing the perfomance of each of our models."
      ],
      "metadata": {
        "id": "YH4Qp248Mru0"
      }
    },
    {
      "cell_type": "code",
      "source": [
        "# Combine model results into a Dataframe\n",
        "all_model_results = pd.DataFrame ({\"baseline\": baseline_results,\n",
        "                                   \"1_simple_dense\": model_1_results,\n",
        "                                   \"2_ltsm\":  model_2_results,\n",
        "                                   \"3_gru\": model_3_results,\n",
        "                                   \"4_bidirectional\": model_4_results,\n",
        "                                   \"5_Conv1D\": model_5_results,\n",
        "                                   \"6_tf_hub_use_encoder\": model_6_results,\n",
        "                                   \"7_tf_hub_use_enconder_10_percent\": model_7_results})\n",
        "\n",
        "all_model_results = all_model_results.transpose()\n",
        "all_model_results"
      ],
      "metadata": {
        "colab": {
          "base_uri": "https://localhost:8080/",
          "height": 300
        },
        "id": "FHDNRNKMTr5D",
        "outputId": "cde006c1-7cc9-45a2-a9ee-fcace6ee751f"
      },
      "execution_count": 83,
      "outputs": [
        {
          "output_type": "execute_result",
          "data": {
            "text/plain": [
              "                                  accuracy  precision    recall        f1\n",
              "baseline                          0.792651   0.811139  0.792651  0.786219\n",
              "1_simple_dense                    0.783465   0.786495  0.783465  0.781054\n",
              "2_ltsm                            0.755906   0.756358  0.755906  0.754213\n",
              "3_gru                             0.772966   0.772848  0.772966  0.772063\n",
              "4_bidirectional                   0.767717   0.767991  0.767717  0.766387\n",
              "5_Conv1D                          0.779528   0.781655  0.779528  0.777402\n",
              "6_tf_hub_use_encoder              0.814961   0.817906  0.814961  0.813230\n",
              "7_tf_hub_use_enconder_10_percent  0.772966   0.777463  0.772966  0.769694"
            ],
            "text/html": [
              "\n",
              "  <div id=\"df-e5959c21-fdcc-44af-a59d-93d2e8014691\">\n",
              "    <div class=\"colab-df-container\">\n",
              "      <div>\n",
              "<style scoped>\n",
              "    .dataframe tbody tr th:only-of-type {\n",
              "        vertical-align: middle;\n",
              "    }\n",
              "\n",
              "    .dataframe tbody tr th {\n",
              "        vertical-align: top;\n",
              "    }\n",
              "\n",
              "    .dataframe thead th {\n",
              "        text-align: right;\n",
              "    }\n",
              "</style>\n",
              "<table border=\"1\" class=\"dataframe\">\n",
              "  <thead>\n",
              "    <tr style=\"text-align: right;\">\n",
              "      <th></th>\n",
              "      <th>accuracy</th>\n",
              "      <th>precision</th>\n",
              "      <th>recall</th>\n",
              "      <th>f1</th>\n",
              "    </tr>\n",
              "  </thead>\n",
              "  <tbody>\n",
              "    <tr>\n",
              "      <th>baseline</th>\n",
              "      <td>0.792651</td>\n",
              "      <td>0.811139</td>\n",
              "      <td>0.792651</td>\n",
              "      <td>0.786219</td>\n",
              "    </tr>\n",
              "    <tr>\n",
              "      <th>1_simple_dense</th>\n",
              "      <td>0.783465</td>\n",
              "      <td>0.786495</td>\n",
              "      <td>0.783465</td>\n",
              "      <td>0.781054</td>\n",
              "    </tr>\n",
              "    <tr>\n",
              "      <th>2_ltsm</th>\n",
              "      <td>0.755906</td>\n",
              "      <td>0.756358</td>\n",
              "      <td>0.755906</td>\n",
              "      <td>0.754213</td>\n",
              "    </tr>\n",
              "    <tr>\n",
              "      <th>3_gru</th>\n",
              "      <td>0.772966</td>\n",
              "      <td>0.772848</td>\n",
              "      <td>0.772966</td>\n",
              "      <td>0.772063</td>\n",
              "    </tr>\n",
              "    <tr>\n",
              "      <th>4_bidirectional</th>\n",
              "      <td>0.767717</td>\n",
              "      <td>0.767991</td>\n",
              "      <td>0.767717</td>\n",
              "      <td>0.766387</td>\n",
              "    </tr>\n",
              "    <tr>\n",
              "      <th>5_Conv1D</th>\n",
              "      <td>0.779528</td>\n",
              "      <td>0.781655</td>\n",
              "      <td>0.779528</td>\n",
              "      <td>0.777402</td>\n",
              "    </tr>\n",
              "    <tr>\n",
              "      <th>6_tf_hub_use_encoder</th>\n",
              "      <td>0.814961</td>\n",
              "      <td>0.817906</td>\n",
              "      <td>0.814961</td>\n",
              "      <td>0.813230</td>\n",
              "    </tr>\n",
              "    <tr>\n",
              "      <th>7_tf_hub_use_enconder_10_percent</th>\n",
              "      <td>0.772966</td>\n",
              "      <td>0.777463</td>\n",
              "      <td>0.772966</td>\n",
              "      <td>0.769694</td>\n",
              "    </tr>\n",
              "  </tbody>\n",
              "</table>\n",
              "</div>\n",
              "      <button class=\"colab-df-convert\" onclick=\"convertToInteractive('df-e5959c21-fdcc-44af-a59d-93d2e8014691')\"\n",
              "              title=\"Convert this dataframe to an interactive table.\"\n",
              "              style=\"display:none;\">\n",
              "        \n",
              "  <svg xmlns=\"http://www.w3.org/2000/svg\" height=\"24px\"viewBox=\"0 0 24 24\"\n",
              "       width=\"24px\">\n",
              "    <path d=\"M0 0h24v24H0V0z\" fill=\"none\"/>\n",
              "    <path d=\"M18.56 5.44l.94 2.06.94-2.06 2.06-.94-2.06-.94-.94-2.06-.94 2.06-2.06.94zm-11 1L8.5 8.5l.94-2.06 2.06-.94-2.06-.94L8.5 2.5l-.94 2.06-2.06.94zm10 10l.94 2.06.94-2.06 2.06-.94-2.06-.94-.94-2.06-.94 2.06-2.06.94z\"/><path d=\"M17.41 7.96l-1.37-1.37c-.4-.4-.92-.59-1.43-.59-.52 0-1.04.2-1.43.59L10.3 9.45l-7.72 7.72c-.78.78-.78 2.05 0 2.83L4 21.41c.39.39.9.59 1.41.59.51 0 1.02-.2 1.41-.59l7.78-7.78 2.81-2.81c.8-.78.8-2.07 0-2.86zM5.41 20L4 18.59l7.72-7.72 1.47 1.35L5.41 20z\"/>\n",
              "  </svg>\n",
              "      </button>\n",
              "      \n",
              "  <style>\n",
              "    .colab-df-container {\n",
              "      display:flex;\n",
              "      flex-wrap:wrap;\n",
              "      gap: 12px;\n",
              "    }\n",
              "\n",
              "    .colab-df-convert {\n",
              "      background-color: #E8F0FE;\n",
              "      border: none;\n",
              "      border-radius: 50%;\n",
              "      cursor: pointer;\n",
              "      display: none;\n",
              "      fill: #1967D2;\n",
              "      height: 32px;\n",
              "      padding: 0 0 0 0;\n",
              "      width: 32px;\n",
              "    }\n",
              "\n",
              "    .colab-df-convert:hover {\n",
              "      background-color: #E2EBFA;\n",
              "      box-shadow: 0px 1px 2px rgba(60, 64, 67, 0.3), 0px 1px 3px 1px rgba(60, 64, 67, 0.15);\n",
              "      fill: #174EA6;\n",
              "    }\n",
              "\n",
              "    [theme=dark] .colab-df-convert {\n",
              "      background-color: #3B4455;\n",
              "      fill: #D2E3FC;\n",
              "    }\n",
              "\n",
              "    [theme=dark] .colab-df-convert:hover {\n",
              "      background-color: #434B5C;\n",
              "      box-shadow: 0px 1px 3px 1px rgba(0, 0, 0, 0.15);\n",
              "      filter: drop-shadow(0px 1px 2px rgba(0, 0, 0, 0.3));\n",
              "      fill: #FFFFFF;\n",
              "    }\n",
              "  </style>\n",
              "\n",
              "      <script>\n",
              "        const buttonEl =\n",
              "          document.querySelector('#df-e5959c21-fdcc-44af-a59d-93d2e8014691 button.colab-df-convert');\n",
              "        buttonEl.style.display =\n",
              "          google.colab.kernel.accessAllowed ? 'block' : 'none';\n",
              "\n",
              "        async function convertToInteractive(key) {\n",
              "          const element = document.querySelector('#df-e5959c21-fdcc-44af-a59d-93d2e8014691');\n",
              "          const dataTable =\n",
              "            await google.colab.kernel.invokeFunction('convertToInteractive',\n",
              "                                                     [key], {});\n",
              "          if (!dataTable) return;\n",
              "\n",
              "          const docLinkHtml = 'Like what you see? Visit the ' +\n",
              "            '<a target=\"_blank\" href=https://colab.research.google.com/notebooks/data_table.ipynb>data table notebook</a>'\n",
              "            + ' to learn more about interactive tables.';\n",
              "          element.innerHTML = '';\n",
              "          dataTable['output_type'] = 'display_data';\n",
              "          await google.colab.output.renderOutput(dataTable, element);\n",
              "          const docLink = document.createElement('div');\n",
              "          docLink.innerHTML = docLinkHtml;\n",
              "          element.appendChild(docLink);\n",
              "        }\n",
              "      </script>\n",
              "    </div>\n",
              "  </div>\n",
              "  "
            ]
          },
          "metadata": {},
          "execution_count": 83
        }
      ]
    },
    {
      "cell_type": "code",
      "source": [
        " # Plot and compare all of the model results\n",
        " all_model_results.plot(kind=\"bar\",figsize=(10,7)).legend(bbox_to_anchor=(1,1));"
      ],
      "metadata": {
        "colab": {
          "base_uri": "https://localhost:8080/",
          "height": 597
        },
        "id": "3k60C-vCT1-j",
        "outputId": "0a2a1194-ed78-4425-8ebb-d93735876f65"
      },
      "execution_count": 84,
      "outputs": [
        {
          "output_type": "display_data",
          "data": {
            "text/plain": [
              "<Figure size 720x504 with 1 Axes>"
            ],
            "image/png": "[encoded data removed]"
          },
          "metadata": {
            "needs_background": "light"
          }
        }
      ]
    },
    {
      "cell_type": "code",
      "source": [
        "# Sort model results by f1-score\n",
        "all_model_results.sort_values(\"f1\", ascending=False)[\"f1\"].plot(kind=\"bar\", figsize=(10,7));"
      ],
      "metadata": {
        "colab": {
          "base_uri": "https://localhost:8080/",
          "height": 597
        },
        "id": "4l5vtiGLVWTe",
        "outputId": "3669b493-d247-4ba9-8c7a-d7a110e4accd"
      },
      "execution_count": 85,
      "outputs": [
        {
          "output_type": "display_data",
          "data": {
            "text/plain": [
              "<Figure size 720x504 with 1 Axes>"
            ],
            "image/png": "[encoded data removed]"
          },
          "metadata": {
            "needs_background": "light"
          }
        }
      ]
    },
    {
      "cell_type": "markdown",
      "source": [
        "Since all our models experiments are reaching to similars results, maybe it's a good idea to return to the data and figure out why is these happening. But firts let's visualize the Tensoboard callbacks and save the best model"
      ],
      "metadata": {
        "id": "ApmieHvprgEe"
      }
    },
    {
      "cell_type": "markdown",
      "source": [
        "## Uploading our model training logs to TensorBoard.Dev"
      ],
      "metadata": {
        "id": "sJn9_CmRXP9w"
      }
    },
    {
      "cell_type": "code",
      "source": [
        "# View tensorboard logs of transfer learning modelling experiments (should be 4 models)\n",
        "# Upload TensorBoard dev records\n",
        "\n",
        "#!tensorboard dev upload --logdir ./model_logs \\\n",
        "#  --name \"NLP modelling experiments\" \\\n",
        "# --description \"A series of different NLP modellings experiments with various models\" \\\n",
        "#--one_shot # exits the uploader when upload has finished"
      ],
      "metadata": {
        "id": "XMX8iaIjXkDM"
      },
      "execution_count": 86,
      "outputs": []
    },
    {
      "cell_type": "code",
      "source": [
        "# If you need to remove previous experiments, you can do so using the following command\n",
        "#!tensorboard dev delete --experiment_id kEomHmGfR6Oo01tnt9OBbg"
      ],
      "metadata": {
        "id": "YQzUxq8oXrp7"
      },
      "execution_count": 87,
      "outputs": []
    },
    {
      "cell_type": "markdown",
      "source": [
        "# Save the best model"
      ],
      "metadata": {
        "id": "G19VxsXqbu8G"
      }
    },
    {
      "cell_type": "code",
      "source": [
        "# Save TF Hub Sentence Encoder model to HDF5 format\n",
        "model_6.save(\"model_6.h5\")"
      ],
      "metadata": {
        "id": "p0lOjYEbdNLW"
      },
      "execution_count": 88,
      "outputs": []
    },
    {
      "cell_type": "code",
      "source": [
        "# Load model with custom Hub Layer (required with HDF5 format)\n",
        "loaded_model_6 = tf.keras.models.load_model(\"model_6.h5\", \n",
        "                                            custom_objects={\"KerasLayer\": hub.KerasLayer})"
      ],
      "metadata": {
        "id": "mKli0Bw0dPaT"
      },
      "execution_count": 89,
      "outputs": []
    },
    {
      "cell_type": "code",
      "source": [
        "# How does our loaded model perform?\n",
        "loaded_model_6.evaluate(val_sentences, val_labels)"
      ],
      "metadata": {
        "colab": {
          "base_uri": "https://localhost:8080/"
        },
        "id": "6WVhrep9diF-",
        "outputId": "a8dbe031-ca2a-4abf-f255-7ba2cf7206fd"
      },
      "execution_count": 90,
      "outputs": [
        {
          "output_type": "stream",
          "name": "stdout",
          "text": [
            "24/24 [==============================] - 1s 19ms/step - loss: 0.4271 - accuracy: 0.8150\n"
          ]
        },
        {
          "output_type": "execute_result",
          "data": {
            "text/plain": [
              "[0.42707163095474243, 0.8149606585502625]"
            ]
          },
          "metadata": {},
          "execution_count": 90
        }
      ]
    },
    {
      "cell_type": "markdown",
      "source": [
        "## Finding the most wrong Examples\n",
        "In this section we going to explore where our model is gretting wrong.\n",
        "\n",
        "One of the best ways to inspect the data is to sort your model's predictions and find the samples it got most wrong, meaning, what predictions had a high prediction probability but turned out to be wrong."
      ],
      "metadata": {
        "id": "OAcZHpRYpWRZ"
      }
    },
    {
      "cell_type": "code",
      "source": [
        "# Create DataFrame with validation sentences and best performing model predictions.\n",
        "val_df = pd.DataFrame({\"text\": val_sentences,\n",
        "                       \"target\": val_labels,\n",
        "                       \"pred\": model_6_preds,\n",
        "                       \"pred_prob\": tf.squeeze(model_6_pred_probs)})\n",
        "val_df.head()"
      ],
      "metadata": {
        "colab": {
          "base_uri": "https://localhost:8080/",
          "height": 206
        },
        "id": "l2jHYJhFporF",
        "outputId": "a03c35a0-5e0e-4fc4-edf8-d4428c7b36f2"
      },
      "execution_count": 91,
      "outputs": [
        {
          "output_type": "execute_result",
          "data": {
            "text/plain": [
              "                                                text  target  pred  pred_prob\n",
              "0  DFR EP016 Monthly Meltdown - On Dnbheaven 2015...       0   0.0   0.157498\n",
              "1  FedEx no longer to transport bioterror germs i...       0   1.0   0.743334\n",
              "2  Gunmen kill four in El Salvador bus attack: Su...       1   1.0   0.987637\n",
              "3  @camilacabello97 Internally and externally scr...       1   0.0   0.197110\n",
              "4  Radiation emergency #preparedness starts with ...       1   1.0   0.742285"
            ],
            "text/html": [
              "\n",
              "  <div id=\"df-9bb62794-3884-43d3-9226-54390e02bd38\">\n",
              "    <div class=\"colab-df-container\">\n",
              "      <div>\n",
              "<style scoped>\n",
              "    .dataframe tbody tr th:only-of-type {\n",
              "        vertical-align: middle;\n",
              "    }\n",
              "\n",
              "    .dataframe tbody tr th {\n",
              "        vertical-align: top;\n",
              "    }\n",
              "\n",
              "    .dataframe thead th {\n",
              "        text-align: right;\n",
              "    }\n",
              "</style>\n",
              "<table border=\"1\" class=\"dataframe\">\n",
              "  <thead>\n",
              "    <tr style=\"text-align: right;\">\n",
              "      <th></th>\n",
              "      <th>text</th>\n",
              "      <th>target</th>\n",
              "      <th>pred</th>\n",
              "      <th>pred_prob</th>\n",
              "    </tr>\n",
              "  </thead>\n",
              "  <tbody>\n",
              "    <tr>\n",
              "      <th>0</th>\n",
              "      <td>DFR EP016 Monthly Meltdown - On Dnbheaven 2015...</td>\n",
              "      <td>0</td>\n",
              "      <td>0.0</td>\n",
              "      <td>0.157498</td>\n",
              "    </tr>\n",
              "    <tr>\n",
              "      <th>1</th>\n",
              "      <td>FedEx no longer to transport bioterror germs i...</td>\n",
              "      <td>0</td>\n",
              "      <td>1.0</td>\n",
              "      <td>0.743334</td>\n",
              "    </tr>\n",
              "    <tr>\n",
              "      <th>2</th>\n",
              "      <td>Gunmen kill four in El Salvador bus attack: Su...</td>\n",
              "      <td>1</td>\n",
              "      <td>1.0</td>\n",
              "      <td>0.987637</td>\n",
              "    </tr>\n",
              "    <tr>\n",
              "      <th>3</th>\n",
              "      <td>@camilacabello97 Internally and externally scr...</td>\n",
              "      <td>1</td>\n",
              "      <td>0.0</td>\n",
              "      <td>0.197110</td>\n",
              "    </tr>\n",
              "    <tr>\n",
              "      <th>4</th>\n",
              "      <td>Radiation emergency #preparedness starts with ...</td>\n",
              "      <td>1</td>\n",
              "      <td>1.0</td>\n",
              "      <td>0.742285</td>\n",
              "    </tr>\n",
              "  </tbody>\n",
              "</table>\n",
              "</div>\n",
              "      <button class=\"colab-df-convert\" onclick=\"convertToInteractive('df-9bb62794-3884-43d3-9226-54390e02bd38')\"\n",
              "              title=\"Convert this dataframe to an interactive table.\"\n",
              "              style=\"display:none;\">\n",
              "        \n",
              "  <svg xmlns=\"http://www.w3.org/2000/svg\" height=\"24px\"viewBox=\"0 0 24 24\"\n",
              "       width=\"24px\">\n",
              "    <path d=\"M0 0h24v24H0V0z\" fill=\"none\"/>\n",
              "    <path d=\"M18.56 5.44l.94 2.06.94-2.06 2.06-.94-2.06-.94-.94-2.06-.94 2.06-2.06.94zm-11 1L8.5 8.5l.94-2.06 2.06-.94-2.06-.94L8.5 2.5l-.94 2.06-2.06.94zm10 10l.94 2.06.94-2.06 2.06-.94-2.06-.94-.94-2.06-.94 2.06-2.06.94z\"/><path d=\"M17.41 7.96l-1.37-1.37c-.4-.4-.92-.59-1.43-.59-.52 0-1.04.2-1.43.59L10.3 9.45l-7.72 7.72c-.78.78-.78 2.05 0 2.83L4 21.41c.39.39.9.59 1.41.59.51 0 1.02-.2 1.41-.59l7.78-7.78 2.81-2.81c.8-.78.8-2.07 0-2.86zM5.41 20L4 18.59l7.72-7.72 1.47 1.35L5.41 20z\"/>\n",
              "  </svg>\n",
              "      </button>\n",
              "      \n",
              "  <style>\n",
              "    .colab-df-container {\n",
              "      display:flex;\n",
              "      flex-wrap:wrap;\n",
              "      gap: 12px;\n",
              "    }\n",
              "\n",
              "    .colab-df-convert {\n",
              "      background-color: #E8F0FE;\n",
              "      border: none;\n",
              "      border-radius: 50%;\n",
              "      cursor: pointer;\n",
              "      display: none;\n",
              "      fill: #1967D2;\n",
              "      height: 32px;\n",
              "      padding: 0 0 0 0;\n",
              "      width: 32px;\n",
              "    }\n",
              "\n",
              "    .colab-df-convert:hover {\n",
              "      background-color: #E2EBFA;\n",
              "      box-shadow: 0px 1px 2px rgba(60, 64, 67, 0.3), 0px 1px 3px 1px rgba(60, 64, 67, 0.15);\n",
              "      fill: #174EA6;\n",
              "    }\n",
              "\n",
              "    [theme=dark] .colab-df-convert {\n",
              "      background-color: #3B4455;\n",
              "      fill: #D2E3FC;\n",
              "    }\n",
              "\n",
              "    [theme=dark] .colab-df-convert:hover {\n",
              "      background-color: #434B5C;\n",
              "      box-shadow: 0px 1px 3px 1px rgba(0, 0, 0, 0.15);\n",
              "      filter: drop-shadow(0px 1px 2px rgba(0, 0, 0, 0.3));\n",
              "      fill: #FFFFFF;\n",
              "    }\n",
              "  </style>\n",
              "\n",
              "      <script>\n",
              "        const buttonEl =\n",
              "          document.querySelector('#df-9bb62794-3884-43d3-9226-54390e02bd38 button.colab-df-convert');\n",
              "        buttonEl.style.display =\n",
              "          google.colab.kernel.accessAllowed ? 'block' : 'none';\n",
              "\n",
              "        async function convertToInteractive(key) {\n",
              "          const element = document.querySelector('#df-9bb62794-3884-43d3-9226-54390e02bd38');\n",
              "          const dataTable =\n",
              "            await google.colab.kernel.invokeFunction('convertToInteractive',\n",
              "                                                     [key], {});\n",
              "          if (!dataTable) return;\n",
              "\n",
              "          const docLinkHtml = 'Like what you see? Visit the ' +\n",
              "            '<a target=\"_blank\" href=https://colab.research.google.com/notebooks/data_table.ipynb>data table notebook</a>'\n",
              "            + ' to learn more about interactive tables.';\n",
              "          element.innerHTML = '';\n",
              "          dataTable['output_type'] = 'display_data';\n",
              "          await google.colab.output.renderOutput(dataTable, element);\n",
              "          const docLink = document.createElement('div');\n",
              "          docLink.innerHTML = docLinkHtml;\n",
              "          element.appendChild(docLink);\n",
              "        }\n",
              "      </script>\n",
              "    </div>\n",
              "  </div>\n",
              "  "
            ]
          },
          "metadata": {},
          "execution_count": 91
        }
      ]
    },
    {
      "cell_type": "markdown",
      "source": [
        "Now we'll filter this dataframe with only the wrong predictions (where target != pred) and sort them by their prediction probability."
      ],
      "metadata": {
        "id": "PxyHKFsHtzZZ"
      }
    },
    {
      "cell_type": "code",
      "source": [
        "# Find the wrong predictions and sort by prediction probabilities.\n",
        "most_wrong = val_df[val_df[\"target\"] != val_df[\"pred\"]].sort_values(\"pred_prob\", ascending= False)\n",
        "most_wrong[:10]"
      ],
      "metadata": {
        "colab": {
          "base_uri": "https://localhost:8080/",
          "height": 363
        },
        "id": "pT7lKc0Nqu-T",
        "outputId": "b346888b-e0fe-454a-e90d-cbee9cbbda26"
      },
      "execution_count": 92,
      "outputs": [
        {
          "output_type": "execute_result",
          "data": {
            "text/plain": [
              "                                                  text  target  pred  \\\n",
              "31   ? High Skies - Burning Buildings ? http://t.co...       0   1.0   \n",
              "628  @noah_anyname That's where the concentration c...       0   1.0   \n",
              "759  FedEx will no longer transport bioterror patho...       0   1.0   \n",
              "49   @madonnamking RSPCA site multiple 7 story high...       0   1.0   \n",
              "393  @SonofLiberty357 all illuminated by the bright...       0   1.0   \n",
              "209  Ashes 2015: AustraliaÛªs collapse at Trent Br...       0   1.0   \n",
              "109  [55436] 1950 LIONEL TRAINS SMOKE LOCOMOTIVES W...       0   1.0   \n",
              "251  @AshGhebranious civil rights continued in the ...       0   1.0   \n",
              "698  åÈMGN-AFRICAå¨ pin:263789F4 åÈ Correction: Ten...       0   1.0   \n",
              "144                                 The Sound of Arson       0   1.0   \n",
              "\n",
              "     pred_prob  \n",
              "31    0.916003  \n",
              "628   0.855746  \n",
              "759   0.855002  \n",
              "49    0.851727  \n",
              "393   0.833641  \n",
              "209   0.810274  \n",
              "109   0.788421  \n",
              "251   0.784474  \n",
              "698   0.771382  \n",
              "144   0.760912  "
            ],
            "text/html": [
              "\n",
              "  <div id=\"df-b7ab7ec9-c613-42da-9eff-a174a78d5558\">\n",
              "    <div class=\"colab-df-container\">\n",
              "      <div>\n",
              "<style scoped>\n",
              "    .dataframe tbody tr th:only-of-type {\n",
              "        vertical-align: middle;\n",
              "    }\n",
              "\n",
              "    .dataframe tbody tr th {\n",
              "        vertical-align: top;\n",
              "    }\n",
              "\n",
              "    .dataframe thead th {\n",
              "        text-align: right;\n",
              "    }\n",
              "</style>\n",
              "<table border=\"1\" class=\"dataframe\">\n",
              "  <thead>\n",
              "    <tr style=\"text-align: right;\">\n",
              "      <th></th>\n",
              "      <th>text</th>\n",
              "      <th>target</th>\n",
              "      <th>pred</th>\n",
              "      <th>pred_prob</th>\n",
              "    </tr>\n",
              "  </thead>\n",
              "  <tbody>\n",
              "    <tr>\n",
              "      <th>31</th>\n",
              "      <td>? High Skies - Burning Buildings ? http://t.co...</td>\n",
              "      <td>0</td>\n",
              "      <td>1.0</td>\n",
              "      <td>0.916003</td>\n",
              "    </tr>\n",
              "    <tr>\n",
              "      <th>628</th>\n",
              "      <td>@noah_anyname That's where the concentration c...</td>\n",
              "      <td>0</td>\n",
              "      <td>1.0</td>\n",
              "      <td>0.855746</td>\n",
              "    </tr>\n",
              "    <tr>\n",
              "      <th>759</th>\n",
              "      <td>FedEx will no longer transport bioterror patho...</td>\n",
              "      <td>0</td>\n",
              "      <td>1.0</td>\n",
              "      <td>0.855002</td>\n",
              "    </tr>\n",
              "    <tr>\n",
              "      <th>49</th>\n",
              "      <td>@madonnamking RSPCA site multiple 7 story high...</td>\n",
              "      <td>0</td>\n",
              "      <td>1.0</td>\n",
              "      <td>0.851727</td>\n",
              "    </tr>\n",
              "    <tr>\n",
              "      <th>393</th>\n",
              "      <td>@SonofLiberty357 all illuminated by the bright...</td>\n",
              "      <td>0</td>\n",
              "      <td>1.0</td>\n",
              "      <td>0.833641</td>\n",
              "    </tr>\n",
              "    <tr>\n",
              "      <th>209</th>\n",
              "      <td>Ashes 2015: AustraliaÛªs collapse at Trent Br...</td>\n",
              "      <td>0</td>\n",
              "      <td>1.0</td>\n",
              "      <td>0.810274</td>\n",
              "    </tr>\n",
              "    <tr>\n",
              "      <th>109</th>\n",
              "      <td>[55436] 1950 LIONEL TRAINS SMOKE LOCOMOTIVES W...</td>\n",
              "      <td>0</td>\n",
              "      <td>1.0</td>\n",
              "      <td>0.788421</td>\n",
              "    </tr>\n",
              "    <tr>\n",
              "      <th>251</th>\n",
              "      <td>@AshGhebranious civil rights continued in the ...</td>\n",
              "      <td>0</td>\n",
              "      <td>1.0</td>\n",
              "      <td>0.784474</td>\n",
              "    </tr>\n",
              "    <tr>\n",
              "      <th>698</th>\n",
              "      <td>åÈMGN-AFRICAå¨ pin:263789F4 åÈ Correction: Ten...</td>\n",
              "      <td>0</td>\n",
              "      <td>1.0</td>\n",
              "      <td>0.771382</td>\n",
              "    </tr>\n",
              "    <tr>\n",
              "      <th>144</th>\n",
              "      <td>The Sound of Arson</td>\n",
              "      <td>0</td>\n",
              "      <td>1.0</td>\n",
              "      <td>0.760912</td>\n",
              "    </tr>\n",
              "  </tbody>\n",
              "</table>\n",
              "</div>\n",
              "      <button class=\"colab-df-convert\" onclick=\"convertToInteractive('df-b7ab7ec9-c613-42da-9eff-a174a78d5558')\"\n",
              "              title=\"Convert this dataframe to an interactive table.\"\n",
              "              style=\"display:none;\">\n",
              "        \n",
              "  <svg xmlns=\"http://www.w3.org/2000/svg\" height=\"24px\"viewBox=\"0 0 24 24\"\n",
              "       width=\"24px\">\n",
              "    <path d=\"M0 0h24v24H0V0z\" fill=\"none\"/>\n",
              "    <path d=\"M18.56 5.44l.94 2.06.94-2.06 2.06-.94-2.06-.94-.94-2.06-.94 2.06-2.06.94zm-11 1L8.5 8.5l.94-2.06 2.06-.94-2.06-.94L8.5 2.5l-.94 2.06-2.06.94zm10 10l.94 2.06.94-2.06 2.06-.94-2.06-.94-.94-2.06-.94 2.06-2.06.94z\"/><path d=\"M17.41 7.96l-1.37-1.37c-.4-.4-.92-.59-1.43-.59-.52 0-1.04.2-1.43.59L10.3 9.45l-7.72 7.72c-.78.78-.78 2.05 0 2.83L4 21.41c.39.39.9.59 1.41.59.51 0 1.02-.2 1.41-.59l7.78-7.78 2.81-2.81c.8-.78.8-2.07 0-2.86zM5.41 20L4 18.59l7.72-7.72 1.47 1.35L5.41 20z\"/>\n",
              "  </svg>\n",
              "      </button>\n",
              "      \n",
              "  <style>\n",
              "    .colab-df-container {\n",
              "      display:flex;\n",
              "      flex-wrap:wrap;\n",
              "      gap: 12px;\n",
              "    }\n",
              "\n",
              "    .colab-df-convert {\n",
              "      background-color: #E8F0FE;\n",
              "      border: none;\n",
              "      border-radius: 50%;\n",
              "      cursor: pointer;\n",
              "      display: none;\n",
              "      fill: #1967D2;\n",
              "      height: 32px;\n",
              "      padding: 0 0 0 0;\n",
              "      width: 32px;\n",
              "    }\n",
              "\n",
              "    .colab-df-convert:hover {\n",
              "      background-color: #E2EBFA;\n",
              "      box-shadow: 0px 1px 2px rgba(60, 64, 67, 0.3), 0px 1px 3px 1px rgba(60, 64, 67, 0.15);\n",
              "      fill: #174EA6;\n",
              "    }\n",
              "\n",
              "    [theme=dark] .colab-df-convert {\n",
              "      background-color: #3B4455;\n",
              "      fill: #D2E3FC;\n",
              "    }\n",
              "\n",
              "    [theme=dark] .colab-df-convert:hover {\n",
              "      background-color: #434B5C;\n",
              "      box-shadow: 0px 1px 3px 1px rgba(0, 0, 0, 0.15);\n",
              "      filter: drop-shadow(0px 1px 2px rgba(0, 0, 0, 0.3));\n",
              "      fill: #FFFFFF;\n",
              "    }\n",
              "  </style>\n",
              "\n",
              "      <script>\n",
              "        const buttonEl =\n",
              "          document.querySelector('#df-b7ab7ec9-c613-42da-9eff-a174a78d5558 button.colab-df-convert');\n",
              "        buttonEl.style.display =\n",
              "          google.colab.kernel.accessAllowed ? 'block' : 'none';\n",
              "\n",
              "        async function convertToInteractive(key) {\n",
              "          const element = document.querySelector('#df-b7ab7ec9-c613-42da-9eff-a174a78d5558');\n",
              "          const dataTable =\n",
              "            await google.colab.kernel.invokeFunction('convertToInteractive',\n",
              "                                                     [key], {});\n",
              "          if (!dataTable) return;\n",
              "\n",
              "          const docLinkHtml = 'Like what you see? Visit the ' +\n",
              "            '<a target=\"_blank\" href=https://colab.research.google.com/notebooks/data_table.ipynb>data table notebook</a>'\n",
              "            + ' to learn more about interactive tables.';\n",
              "          element.innerHTML = '';\n",
              "          dataTable['output_type'] = 'display_data';\n",
              "          await google.colab.output.renderOutput(dataTable, element);\n",
              "          const docLink = document.createElement('div');\n",
              "          docLink.innerHTML = docLinkHtml;\n",
              "          element.appendChild(docLink);\n",
              "        }\n",
              "      </script>\n",
              "    </div>\n",
              "  </div>\n",
              "  "
            ]
          },
          "metadata": {},
          "execution_count": 92
        }
      ]
    },
    {
      "cell_type": "code",
      "source": [
        "# Check the false positivies (model predicted 1 when should've been 0)\n",
        "for row in most_wrong[10:].itertuples():\n",
        " _, text, target, pred,pred_prob = row \n",
        " print(f\"Target: {target}, Pred: {pred}, Prob: {pred_prob}\")\n",
        " print(f\"Text:\\n {text} \\n\")\n",
        " print(\"---\\n\")"
      ],
      "metadata": {
        "colab": {
          "base_uri": "https://localhost:8080/"
        },
        "id": "Se2GivN6uaxM",
        "outputId": "76b0c46e-0195-4f6e-e2f7-60fcc62e88e1"
      },
      "execution_count": 93,
      "outputs": [
        {
          "output_type": "stream",
          "name": "stdout",
          "text": [
            "Target: 0, Pred: 1.0, Prob: 0.7442207932472229\n",
            "Text:\n",
            " A look at state actions a year after Ferguson's upheaval http://t.co/GZEkQWzijq \n",
            "\n",
            "---\n",
            "\n",
            "Target: 0, Pred: 1.0, Prob: 0.7433338761329651\n",
            "Text:\n",
            " FedEx no longer to transport bioterror germs in wake of anthrax lab mishaps http://t.co/qZQc8WWwcN via @usatoday \n",
            "\n",
            "---\n",
            "\n",
            "Target: 0, Pred: 1.0, Prob: 0.7380508184432983\n",
            "Text:\n",
            " Deaths 3 http://t.co/nApviyGKYK \n",
            "\n",
            "---\n",
            "\n",
            "Target: 0, Pred: 1.0, Prob: 0.7344895601272583\n",
            "Text:\n",
            " @RebeccaforReal accepts Wisconsin Emergency Response Plan on behalf of @GovWalker #nbc15 http://t.co/Pis0aiVRbR \n",
            "\n",
            "---\n",
            "\n",
            "Target: 0, Pred: 1.0, Prob: 0.7189075350761414\n",
            "Text:\n",
            " Day 2. Liquidation of emergency at chemical object. #USAR2015 #USAR15 #RUOR #??????????? http://t.co/gGTmDqUdDo \n",
            "\n",
            "---\n",
            "\n",
            "Target: 0, Pred: 1.0, Prob: 0.7177956104278564\n",
            "Text:\n",
            " @freefromwolves GodsLove &amp; #thankU brother Danny for RT of NEW VIDEO http://t.co/cybKsXHF7d The Coming Apocalyptic US Earthquake &amp; Tsunami \n",
            "\n",
            "---\n",
            "\n",
            "Target: 0, Pred: 1.0, Prob: 0.7082555294036865\n",
            "Text:\n",
            " My phone looks like it was in a car ship airplane accident. Terrible \n",
            "\n",
            "---\n",
            "\n",
            "Target: 0, Pred: 1.0, Prob: 0.7080846428871155\n",
            "Text:\n",
            " Trafford Centre film fans angry after Odeon cinema evacuated following false fire alarm   http://t.co/6GLDwx71DA \n",
            "\n",
            "---\n",
            "\n",
            "Target: 0, Pred: 1.0, Prob: 0.7070179581642151\n",
            "Text:\n",
            " GENERAL AUDIENCE: On Wounded Families | ZENIT - The World Seen From Rome http://t.co/hFvnyfT78C \n",
            "\n",
            "---\n",
            "\n",
            "Target: 0, Pred: 1.0, Prob: 0.7003713250160217\n",
            "Text:\n",
            " Air Group is here to the rescue! We have 24/7 Emergency Service! Learn more about it here - http://t.co/9lyx7zMtHE http://t.co/5PbC96rTMJ \n",
            "\n",
            "---\n",
            "\n",
            "Target: 0, Pred: 1.0, Prob: 0.6919726729393005\n",
            "Text:\n",
            " The #tubestrike is because TFL workers may have trouble planning downtime. I hope none need emergency services. http://t.co/iCSFDSiFqb \n",
            "\n",
            "---\n",
            "\n",
            "Target: 0, Pred: 1.0, Prob: 0.6890311241149902\n",
            "Text:\n",
            " @BrodyFrieling @hanna_brooksie photo bombed \n",
            "\n",
            "---\n",
            "\n",
            "Target: 0, Pred: 1.0, Prob: 0.6750558018684387\n",
            "Text:\n",
            " Crack in the path where I wiped out this morning during beach run. Surface wounds on left elbow and right knee. http://t.co/yaqRSximph \n",
            "\n",
            "---\n",
            "\n",
            "Target: 0, Pred: 1.0, Prob: 0.6486300826072693\n",
            "Text:\n",
            " @pxnatosil @RenuncieDilma  Fatality! \n",
            "\n",
            "---\n",
            "\n",
            "Target: 0, Pred: 1.0, Prob: 0.6381865739822388\n",
            "Text:\n",
            " Cyclists it is pandemonium on the roads today. Drive carefully! \n",
            "\n",
            "---\n",
            "\n",
            "Target: 0, Pred: 1.0, Prob: 0.6321260333061218\n",
            "Text:\n",
            " Haley Lu Richardson Fights for Water in The Last Survivors (Review) http://t.co/oObSCFOKtQ \n",
            "\n",
            "---\n",
            "\n",
            "Target: 0, Pred: 1.0, Prob: 0.6240885853767395\n",
            "Text:\n",
            " Article by Michael Jackman at Metro Times Detroit:\n",
            "The group later downgraded the estimate to 37 square miles of... http://t.co/h31mmuduqt \n",
            "\n",
            "---\n",
            "\n",
            "Target: 0, Pred: 1.0, Prob: 0.6238693594932556\n",
            "Text:\n",
            " the windstorm blew thru my open window and now my bong is in pieces just another example of nature's indifference to human suffering \n",
            "\n",
            "---\n",
            "\n",
            "Target: 0, Pred: 1.0, Prob: 0.6222224831581116\n",
            "Text:\n",
            " Love is the weapon for this wounded generation &lt;3 \n",
            "\n",
            "---\n",
            "\n",
            "Target: 0, Pred: 1.0, Prob: 0.6175217628479004\n",
            "Text:\n",
            " Do you have a plan? Emergency Preparedness for #Families of\n",
            "Children with Special Needs  http://t.co/RdOVqaUAx5  #autism #specialneeds \n",
            "\n",
            "---\n",
            "\n",
            "Target: 0, Pred: 1.0, Prob: 0.611203134059906\n",
            "Text:\n",
            " Came across this fire video not mine..enjoy..Babes way of saying hi to me while he's in the fire truck??\n",
            "#fireman #Û_ http://t.co/V5gTUnwohy \n",
            "\n",
            "---\n",
            "\n",
            "Target: 0, Pred: 1.0, Prob: 0.6070051193237305\n",
            "Text:\n",
            " .@AIGinsurance CEO: Divestitures and #Catastrophe Losses Temper Q2 #Results http://t.co/2y2wZk1FrM \n",
            "\n",
            "---\n",
            "\n",
            "Target: 0, Pred: 1.0, Prob: 0.6003056764602661\n",
            "Text:\n",
            " Photo: postapocalypticflimflam: Prodding around the rubble. http://t.co/Bgy4i47j70 \n",
            "\n",
            "---\n",
            "\n",
            "Target: 0, Pred: 1.0, Prob: 0.5960294604301453\n",
            "Text:\n",
            " #helpme what do I do? My friend has been ticketed by Police in Wayne County Michigan into never- sending poverty cycle. How do I help him? \n",
            "\n",
            "---\n",
            "\n",
            "Target: 0, Pred: 1.0, Prob: 0.5849639773368835\n",
            "Text:\n",
            " Public Hearing on 2015-16 @SUNY_Orange budget Thurs 8/6 at 3:15 Emergency Services Ctr Goshen. http://t.co/80DzgCo6Vc \n",
            "\n",
            "---\n",
            "\n",
            "Target: 0, Pred: 1.0, Prob: 0.5812267661094666\n",
            "Text:\n",
            " Diageo's CEO stresses that a board revolt at United Spirits has not impacted Indian operations http://t.co/STPOdA901U \n",
            "\n",
            "---\n",
            "\n",
            "Target: 0, Pred: 1.0, Prob: 0.574543297290802\n",
            "Text:\n",
            " @cjbanning 4sake of argsuppose pre-born has attained individl rights.Generally courtof law forbids killing unless dead person did something \n",
            "\n",
            "---\n",
            "\n",
            "Target: 0, Pred: 1.0, Prob: 0.5740101933479309\n",
            "Text:\n",
            " @RedCoatJackpot *As it was typical for them their bullets collided and none managed to reach their targets; such was the ''curse'' of a -- \n",
            "\n",
            "---\n",
            "\n",
            "Target: 0, Pred: 1.0, Prob: 0.5668668746948242\n",
            "Text:\n",
            " there's this person &amp; they reckon when you're dying your brain floods with dmt causing you to relive your life in real time in a simulation \n",
            "\n",
            "---\n",
            "\n",
            "Target: 0, Pred: 1.0, Prob: 0.5624644160270691\n",
            "Text:\n",
            " @LegacyOfTheSith @SagaciousSaber @Lordofbetrayal Moved in a crescent formation small trails of dust left in their wake as they moved. \n",
            "\n",
            "---\n",
            "\n",
            "Target: 0, Pred: 1.0, Prob: 0.5448356866836548\n",
            "Text:\n",
            " He made such a good point. White person comings mass murder labelled as criminal minority does the same thing... http://t.co/37qPsSnaCv \n",
            "\n",
            "---\n",
            "\n",
            "Target: 0, Pred: 1.0, Prob: 0.5384475588798523\n",
            "Text:\n",
            " WPRI 12 Eyewitness News Rhode Island set to modernize its voting equipment WPRI 12 EyewitnessÛ_ http://t.co/aP9JBrPmQg \n",
            "\n",
            "---\n",
            "\n",
            "Target: 0, Pred: 1.0, Prob: 0.5334079265594482\n",
            "Text:\n",
            " @nagel_ashley @Vicken52 @BasedLaRock @goonc1ty rip the world... its burning \n",
            "\n",
            "---\n",
            "\n",
            "Target: 0, Pred: 1.0, Prob: 0.5228788256645203\n",
            "Text:\n",
            " Emergency Response and Hazardous Chemical Management: Principles and Practices http://t.co/4sSuyhkgRB http://t.co/TDerBtgZ2k \n",
            "\n",
            "---\n",
            "\n",
            "Target: 0, Pred: 1.0, Prob: 0.5203869342803955\n",
            "Text:\n",
            " Ignition Knock (Detonation) Sensor Connector-Connecto MOTORCRAFT WPT-410 http://t.co/bSmJ2HVgwD http://t.co/bXalnEdy49 \n",
            "\n",
            "---\n",
            "\n",
            "Target: 0, Pred: 1.0, Prob: 0.5195072889328003\n",
            "Text:\n",
            " Aftershock ã¢ (2010) Fullã¢ Streaming - YouTube http://t.co/vVE3UsesGf \n",
            "\n",
            "---\n",
            "\n",
            "Target: 0, Pred: 1.0, Prob: 0.5048660635948181\n",
            "Text:\n",
            " @Azimel 'Screaming Mad Scientist deceased after tumbling over heels and falling into sinkhole during investigation' \n",
            "\n",
            "---\n",
            "\n",
            "Target: 1, Pred: 0.0, Prob: 0.496174693107605\n",
            "Text:\n",
            " China's Stock Market Crash: Are There Gems In The Rubble? http://t.co/BqBLWiw08g #ROIMentor #yycwalks \n",
            "\n",
            "---\n",
            "\n",
            "Target: 1, Pred: 0.0, Prob: 0.4917517304420471\n",
            "Text:\n",
            " @Dirk_NoMissSki yea but if someone faints why are they panicking?.. thats basic stuff ?? \n",
            "\n",
            "---\n",
            "\n",
            "Target: 1, Pred: 0.0, Prob: 0.4837227761745453\n",
            "Text:\n",
            " #computers #gadgets Two giant cranes holding a bridge collapse into nearby homes http://t.co/UZIWgZRynY #slingnews \n",
            "\n",
            "---\n",
            "\n",
            "Target: 1, Pred: 0.0, Prob: 0.47847452759742737\n",
            "Text:\n",
            " Science Daily: Lightning reshapes rocks at the atomic level - A lightning strike can reshape a mineral's crystal s... http://t.co/TEZLTqeyw2 \n",
            "\n",
            "---\n",
            "\n",
            "Target: 1, Pred: 0.0, Prob: 0.4720599949359894\n",
            "Text:\n",
            " When ur friend and u are talking about forest fires in a forest and he tells u to drop ur mix tape out there... #straightfire \n",
            "\n",
            "---\n",
            "\n",
            "Target: 1, Pred: 0.0, Prob: 0.46381673216819763\n",
            "Text:\n",
            " @KlaraJoelsson Well I have seen it now! That's a bummer. We've had this heat wave tho... 43'c!! I'd prefer the rain... :P \n",
            "\n",
            "---\n",
            "\n",
            "Target: 1, Pred: 0.0, Prob: 0.45941683650016785\n",
            "Text:\n",
            " Tension In Bayelsa As Patience Jonathan Plans To Hijack APC PDP http://t.co/epABiNcZmJ http://t.co/1SgzGtgfw9 \n",
            "\n",
            "---\n",
            "\n",
            "Target: 1, Pred: 0.0, Prob: 0.45536309480667114\n",
            "Text:\n",
            " Back from Seattle Tacoma and Portland. Whirlwind! http://t.co/qwHINBni8e \n",
            "\n",
            "---\n",
            "\n",
            "Target: 1, Pred: 0.0, Prob: 0.4523910582065582\n",
            "Text:\n",
            " I moved to England five years ago today. What a whirlwind of time it has been! http://t.co/eaSlGeA1B7 \n",
            "\n",
            "---\n",
            "\n",
            "Target: 1, Pred: 0.0, Prob: 0.44710642099380493\n",
            "Text:\n",
            " A Dayton-area org tells me it was hit by a cyber attack: http://t.co/7LhKJz0IVO \n",
            "\n",
            "---\n",
            "\n",
            "Target: 1, Pred: 0.0, Prob: 0.440716952085495\n",
            "Text:\n",
            " Medieval airplane hijacker testa: earnings the distinction divers: HtaRvrGLY \n",
            "\n",
            "---\n",
            "\n",
            "Target: 1, Pred: 0.0, Prob: 0.4325524866580963\n",
            "Text:\n",
            " Nearly had a heart attack just now; loud bang against window next to meÛ_turns out it was two birds flying into the glass. \n",
            "\n",
            "---\n",
            "\n",
            "Target: 1, Pred: 0.0, Prob: 0.4260537922382355\n",
            "Text:\n",
            " #Metepec #Mexico - ?NIGHT DISASTER?...E(Oficial) @ #NitClub #mÌ¼sica #mÌ¼sica http://t.co/WTfJF9jjzs \n",
            "\n",
            "---\n",
            "\n",
            "Target: 1, Pred: 0.0, Prob: 0.4191020727157593\n",
            "Text:\n",
            " 133 N past  the 5 L lane is reopened. All other lanes are closed. All lanes are open on the 133 S. Trash truck fire cleanup. @KNX1070 \n",
            "\n",
            "---\n",
            "\n",
            "Target: 1, Pred: 0.0, Prob: 0.4151628911495209\n",
            "Text:\n",
            " @DavidJordan88 @Stephanenny Except we don't know who started the riot or if it even makes sense to credit any particular individuals... \n",
            "\n",
            "---\n",
            "\n",
            "Target: 1, Pred: 0.0, Prob: 0.39982545375823975\n",
            "Text:\n",
            " DireTube Information ÛÒ Egypt Cyprus and Greece agreed to fightåÊterrorism http://t.co/V6IjxCCD2I http://t.co/YSXhFWMGOD \n",
            "\n",
            "---\n",
            "\n",
            "Target: 1, Pred: 0.0, Prob: 0.3982197940349579\n",
            "Text:\n",
            " US wont upgrade its infrastructure? http://t.co/NGEHhG9YGa' it a bad situation and its going to get ugly very quickly #USA #sustainability \n",
            "\n",
            "---\n",
            "\n",
            "Target: 1, Pred: 0.0, Prob: 0.39440929889678955\n",
            "Text:\n",
            " There's a weird siren going off here...I hope Hunterston isn't in the process of blowing itself to smithereens... \n",
            "\n",
            "---\n",
            "\n",
            "Target: 1, Pred: 0.0, Prob: 0.3938455581665039\n",
            "Text:\n",
            " Breakfast links: Work from home: Derailed: An empty train derailed at Smithsonian this morning suspending ser... http://t.co/iD4QGqDnJQ \n",
            "\n",
            "---\n",
            "\n",
            "Target: 1, Pred: 0.0, Prob: 0.39051103591918945\n",
            "Text:\n",
            " So this storm just came out of no where. .fuck me its cool \n",
            "\n",
            "---\n",
            "\n",
            "Target: 1, Pred: 0.0, Prob: 0.38558775186538696\n",
            "Text:\n",
            " Oops: Bounty hunters try to raid Phoenix police chief's home: http://t.co/yPRJWMigHL -- A group of armed bounty... http://t.co/3RrKRCjYW7 \n",
            "\n",
            "---\n",
            "\n",
            "Target: 1, Pred: 0.0, Prob: 0.3784487843513489\n",
            "Text:\n",
            " #World #News Qld police wrap Billy Gordon investigation: QUEENSLAND Police have wrapped up their investigation...  http://t.co/msgnNDxOeK \n",
            "\n",
            "---\n",
            "\n",
            "Target: 1, Pred: 0.0, Prob: 0.37198635935783386\n",
            "Text:\n",
            " Hollywood Movie About Trapped Miners Released in Chile: 'The 33' Hollywood movie about trapped miners starring... http://t.co/tyyfG4qQvM \n",
            "\n",
            "---\n",
            "\n",
            "Target: 1, Pred: 0.0, Prob: 0.36483871936798096\n",
            "Text:\n",
            " I never knew about the relationship btwn Kansas City Hyatt bridge collapse &amp; AIA's COTE.   http://t.co/ThS9IqSWP3 via @HuffPostArts \n",
            "\n",
            "---\n",
            "\n",
            "Target: 1, Pred: 0.0, Prob: 0.3602137565612793\n",
            "Text:\n",
            " RT NotExplained: The only known image of infamous hijacker D.B. Cooper. http://t.co/JlzK2HdeTG \n",
            "\n",
            "---\n",
            "\n",
            "Target: 1, Pred: 0.0, Prob: 0.3552890419960022\n",
            "Text:\n",
            " @ColdMpress You up to commiting mass murder tonight? \n",
            "\n",
            "---\n",
            "\n",
            "Target: 1, Pred: 0.0, Prob: 0.34621214866638184\n",
            "Text:\n",
            " Savings and sewing in Guatemala: Savings and sewing in Guatemala. When a natural disaster hit seamstress Elvia...  http://t.co/jdx9OX2kIk \n",
            "\n",
            "---\n",
            "\n",
            "Target: 1, Pred: 0.0, Prob: 0.34449902176856995\n",
            "Text:\n",
            " #ClimateChange Eyewitness to Extreme Weather: 11 Social Media Posts that Show Just How Crazy Things A... http://t.co/czpDn9oBiT #Anarchy \n",
            "\n",
            "---\n",
            "\n",
            "Target: 1, Pred: 0.0, Prob: 0.3352534770965576\n",
            "Text:\n",
            " Policyholders object to Clico rescue plan http://t.co/E4DvI9vUXZ http://t.co/JyCpf8iYhg \n",
            "\n",
            "---\n",
            "\n",
            "Target: 1, Pred: 0.0, Prob: 0.31632930040359497\n",
            "Text:\n",
            " How is it one careless match can start a forest fire but it takes a whole box to start a campfire? \n",
            "\n",
            "---\n",
            "\n",
            "Target: 1, Pred: 0.0, Prob: 0.29568591713905334\n",
            "Text:\n",
            " Toddler drowned in bath after mum left room to fetch his pyjamas http://t.co/k9aSKtwXfL \n",
            "\n",
            "---\n",
            "\n",
            "Target: 1, Pred: 0.0, Prob: 0.28718435764312744\n",
            "Text:\n",
            " @emmerdale can we have a public vote for the next annual village disaster?  i want an isis strike or a nuclear accident &amp; end this forever \n",
            "\n",
            "---\n",
            "\n",
            "Target: 1, Pred: 0.0, Prob: 0.2810821831226349\n",
            "Text:\n",
            " Crazy Mom Threw Teen Daughter a NUDE Twister Sex Party According To Her Friend50 =&gt;http://t.co/Hy5Pbe12TM http://t.co/c1nJpLi5oR \n",
            "\n",
            "---\n",
            "\n",
            "Target: 1, Pred: 0.0, Prob: 0.2799108028411865\n",
            "Text:\n",
            " Would a paramedic really do that? Leave someone inside a building that's about to collapse/blow up? @HalloIkBenWill \n",
            "\n",
            "---\n",
            "\n",
            "Target: 1, Pred: 0.0, Prob: 0.2651972472667694\n",
            "Text:\n",
            " First time getting into #gbbo2015 and physically gasped at the cake 'mudslide' incident already way too emotionally invested... \n",
            "\n",
            "---\n",
            "\n",
            "Target: 1, Pred: 0.0, Prob: 0.26297882199287415\n",
            "Text:\n",
            " Owner of Chicago-Area Gay Bar Admits to Arson Scheme http://t.co/ZPxE3fMYNG #LGBT \n",
            "\n",
            "---\n",
            "\n",
            "Target: 1, Pred: 0.0, Prob: 0.2593637704849243\n",
            "Text:\n",
            " shit is hard to get over but sometimes the tragedy means it's over soulja.. \n",
            "\n",
            "---\n",
            "\n",
            "Target: 1, Pred: 0.0, Prob: 0.25639912486076355\n",
            "Text:\n",
            " The date for the release of EP03 DESOLATION is set. Stay tuned for more info while we finalise the schedule. #alt #electro #rock #comingsoon \n",
            "\n",
            "---\n",
            "\n",
            "Target: 1, Pred: 0.0, Prob: 0.2488180547952652\n",
            "Text:\n",
            " In Kalmikya Astrakhan Volgagrad and Dagestan there is already no food left for the locusts\n",
            "\n",
            "  http://t.co/79Fw9zWxtP via @TIMEWorld \n",
            "\n",
            "---\n",
            "\n",
            "Target: 1, Pred: 0.0, Prob: 0.2302301526069641\n",
            "Text:\n",
            " when you don't know which way an ambulance is coming from &lt;&lt; \n",
            "\n",
            "---\n",
            "\n",
            "Target: 1, Pred: 0.0, Prob: 0.2286597043275833\n",
            "Text:\n",
            " Another fake hate crime Lesbians burn their own house down. What else Is new :http://t.co/66oBQmxImb \n",
            "\n",
            "---\n",
            "\n",
            "Target: 1, Pred: 0.0, Prob: 0.2137102633714676\n",
            "Text:\n",
            " How to prepare your #property for a #storm:\n",
            "\n",
            "http://t.co/KhYqQsi6My http://t.co/G6Vs3XEinb \n",
            "\n",
            "---\n",
            "\n",
            "Target: 1, Pred: 0.0, Prob: 0.20670035481452942\n",
            "Text:\n",
            " Two hours to get to a client meeting. Whirlwind of emotions with this #tubestrike \n",
            "\n",
            "---\n",
            "\n",
            "Target: 1, Pred: 0.0, Prob: 0.20158858597278595\n",
            "Text:\n",
            " Stupid women nearly collided into me today after she came out of a junction not looking. Still kept coming towards me till I beep my horn \n",
            "\n",
            "---\n",
            "\n",
            "Target: 1, Pred: 0.0, Prob: 0.19864702224731445\n",
            "Text:\n",
            " #hot  Funtenna: hijacking computers to send data as sound waves [Black Hat 2015] http://t.co/cOMuiOk3mP #prebreak #best \n",
            "\n",
            "---\n",
            "\n",
            "Target: 1, Pred: 0.0, Prob: 0.1978914588689804\n",
            "Text:\n",
            " Just came back from camping and returned with a new song which gets recorded tomorrow. Can't wait! #Desolation #TheConspiracyTheory #NewEP \n",
            "\n",
            "---\n",
            "\n",
            "Target: 1, Pred: 0.0, Prob: 0.19710956513881683\n",
            "Text:\n",
            " @camilacabello97 Internally and externally screaming \n",
            "\n",
            "---\n",
            "\n",
            "Target: 1, Pred: 0.0, Prob: 0.19275067746639252\n",
            "Text:\n",
            " Indeed!! I am fully aware of that battle! I support you in that fight!!  https://t.co/MctJnZX4H8 \n",
            "\n",
            "---\n",
            "\n",
            "Target: 1, Pred: 0.0, Prob: 0.18975161015987396\n",
            "Text:\n",
            " CDC has a pretty cool list of all bioterrorism agents :3 \n",
            "\n",
            "---\n",
            "\n",
            "Target: 1, Pred: 0.0, Prob: 0.186883345246315\n",
            "Text:\n",
            " Plans by former First Lady and wife of ex-President Goodluck Jonathan Dame Patience Jonathan to hijack the All... http://t.co/HaShGQAFic \n",
            "\n",
            "---\n",
            "\n",
            "Target: 1, Pred: 0.0, Prob: 0.1855279803276062\n",
            "Text:\n",
            " Body shops inundated with cars dented by hail... Good news insurance pays... Bad news :  you are stuck with deductible !\n",
            "#wcvb \n",
            "\n",
            "---\n",
            "\n",
            "Target: 1, Pred: 0.0, Prob: 0.17235858738422394\n",
            "Text:\n",
            " Sadly before she could save humanity Ursula drowned in the drool of a protoshoggoth but at least she sort of died doing what she loved. \n",
            "\n",
            "---\n",
            "\n",
            "Target: 1, Pred: 0.0, Prob: 0.17186439037322998\n",
            "Text:\n",
            " @dreamoforgonon @TeeEss not to hijack but as a bona fide cislady I can confirm this as true; incidental homosexuality =/= gay/bi for women. \n",
            "\n",
            "---\n",
            "\n",
            "Target: 1, Pred: 0.0, Prob: 0.171075239777565\n",
            "Text:\n",
            " #download &amp; #watch Demolition Frog (2002) http://t.co/81nEizeknm #movie \n",
            "\n",
            "---\n",
            "\n",
            "Target: 1, Pred: 0.0, Prob: 0.16870100796222687\n",
            "Text:\n",
            " When you go to a concert and someone screams in your ear... Does it look like I wanna loose my hearing anytime soon??? \n",
            "\n",
            "---\n",
            "\n",
            "Target: 1, Pred: 0.0, Prob: 0.1617864966392517\n",
            "Text:\n",
            " annihilating quarterstaff of annihilation \n",
            "\n",
            "---\n",
            "\n",
            "Target: 1, Pred: 0.0, Prob: 0.16170790791511536\n",
            "Text:\n",
            " Julian Knight - @SCVSupremeCourt dismisses mass murderer's attempt to increase prisoner pay. Challenged quantum of 5% increase 2013. \n",
            "\n",
            "---\n",
            "\n",
            "Target: 1, Pred: 0.0, Prob: 0.15470759570598602\n",
            "Text:\n",
            " suddenly it's off &amp; on gloomy &amp; thunder so loud it shakes the windows? Not ever on the Bay Area. Miss me w/that lol http://t.co/x4eCGGvnSN \n",
            "\n",
            "---\n",
            "\n",
            "Target: 1, Pred: 0.0, Prob: 0.14589080214500427\n",
            "Text:\n",
            " @MichaelWestBiz standard damage control \n",
            "\n",
            "---\n",
            "\n",
            "Target: 1, Pred: 0.0, Prob: 0.13805577158927917\n",
            "Text:\n",
            " So I pick myself off the ground and swam before I drowned. Hit the bottom so hard I bounced twice suffice this time around is different. \n",
            "\n",
            "---\n",
            "\n",
            "Target: 1, Pred: 0.0, Prob: 0.13766340911388397\n",
            "Text:\n",
            " A quarter whirlwind. They don't see it coming. \n",
            "\n",
            "---\n",
            "\n",
            "Target: 1, Pred: 0.0, Prob: 0.13118933141231537\n",
            "Text:\n",
            " Can't believe more people in their mid 20's don't have high blood pressure. Life is stressful. #DecisionsOnDecisions \n",
            "\n",
            "---\n",
            "\n",
            "Target: 1, Pred: 0.0, Prob: 0.13118413090705872\n",
            "Text:\n",
            " World War II book LIGHTNING JOE An Autobiography by General J. Lawton Collins http://t.co/R4khEH7iaf http://t.co/qSZgJfUutu \n",
            "\n",
            "---\n",
            "\n",
            "Target: 1, Pred: 0.0, Prob: 0.12963475286960602\n",
            "Text:\n",
            " The ol' meltdown victory for the Mets. \n",
            "\n",
            "---\n",
            "\n",
            "Target: 1, Pred: 0.0, Prob: 0.12872585654258728\n",
            "Text:\n",
            " I wanna set some shit on fire. \n",
            "\n",
            "---\n",
            "\n",
            "Target: 1, Pred: 0.0, Prob: 0.11868789792060852\n",
            "Text:\n",
            " @SaintRobinho86 someone has to be at the bottom of every league. Tonight clearly demonstrated why the Lions are where they are - sunk! \n",
            "\n",
            "---\n",
            "\n",
            "Target: 1, Pred: 0.0, Prob: 0.11851765960454941\n",
            "Text:\n",
            " @cspanwj If 90BLKs&amp;8WHTs colluded 2 take WHT F @USAgov AUTH Hostage&amp;2 make her look BLK w/Bioterrorism&amp;use her lgl/org IDis ID still hers? \n",
            "\n",
            "---\n",
            "\n",
            "Target: 1, Pred: 0.0, Prob: 0.11164838075637817\n",
            "Text:\n",
            " @Habbo bring back games from the past. Snowstorm. Tic tac toe. Battleships. Fast food. Matchwood. \n",
            "\n",
            "---\n",
            "\n",
            "Target: 1, Pred: 0.0, Prob: 0.11005427688360214\n",
            "Text:\n",
            " Until my death I'll forever rep the Jets. \n",
            "\n",
            "---\n",
            "\n",
            "Target: 1, Pred: 0.0, Prob: 0.10780344903469086\n",
            "Text:\n",
            " Yelp Bolsters Health Care Reviews With Investigative Journalism: Sick and injured patients at a local ER are t... http://t.co/E8aEGOFDY2 \n",
            "\n",
            "---\n",
            "\n",
            "Target: 1, Pred: 0.0, Prob: 0.10683047026395798\n",
            "Text:\n",
            " Petition | Heartless owner that whipped horse until it collapsed is told he can KEEP his animal! Act Now! http://t.co/87eFCBIczM \n",
            "\n",
            "---\n",
            "\n",
            "Target: 1, Pred: 0.0, Prob: 0.10198252648115158\n",
            "Text:\n",
            " @GodOf_Mischief_ -of Loki's daggers she pulled it out and jammed it into Mina's thigh. When Mina screamed and grabbed at her leg sif- \n",
            "\n",
            "---\n",
            "\n",
            "Target: 1, Pred: 0.0, Prob: 0.0993584468960762\n",
            "Text:\n",
            " Perspectives on the Grateful Dead: Critical Writings (Contributions to the Study http://t.co/fmu0fnuMxf http://t.co/AgGRyhVXKr \n",
            "\n",
            "---\n",
            "\n",
            "Target: 1, Pred: 0.0, Prob: 0.09916679561138153\n",
            "Text:\n",
            " Leitchfield KY:\n",
            "\n",
            " Bella Edward &amp; Rosalie need rescue/adoption/local foster home(s)/sponsorships.\n",
            "\n",
            " Trapped &amp;... http://t.co/Ajay0sNPlg \n",
            "\n",
            "---\n",
            "\n",
            "Target: 1, Pred: 0.0, Prob: 0.08990731835365295\n",
            "Text:\n",
            " @Zak_Bagans this is Sabrina my dad rescued her from some dude who kept her in a cage. We've had her since I was 4 http://t.co/1k2PhQcuW8 \n",
            "\n",
            "---\n",
            "\n",
            "Target: 1, Pred: 0.0, Prob: 0.0890861377120018\n",
            "Text:\n",
            " @reriellechan HE WAS THE LICH KING'S FIRST CASUALTY BLOCK ME BACK I HATE YOU! http://t.co/0Gidg9U45J \n",
            "\n",
            "---\n",
            "\n",
            "Target: 1, Pred: 0.0, Prob: 0.08658259361982346\n",
            "Text:\n",
            " If I fall is men GOD @Praiz8 is d bomb well av always known dat since 2008 bigger u I pray sir \n",
            "\n",
            "---\n",
            "\n",
            "Target: 1, Pred: 0.0, Prob: 0.085813008248806\n",
            "Text:\n",
            " Rand Paul's Debate Strategy 'demolish Some other bad ideas out there or point out maybe that there are some em... http://t.co/qzdqRBr4Lh \n",
            "\n",
            "---\n",
            "\n",
            "Target: 1, Pred: 0.0, Prob: 0.07618106156587601\n",
            "Text:\n",
            " New post from @darkreading http://t.co/8eIJDXApnp New SMB Relay Attack Steals User Credentials Over Internet \n",
            "\n",
            "---\n",
            "\n",
            "Target: 1, Pred: 0.0, Prob: 0.07305820286273956\n",
            "Text:\n",
            " VICTORINOX SWISS ARMY DATE WOMEN'S RUBBER MOP WATCH 241487 http://t.co/yFy3nkkcoH http://t.co/KNEhVvOHVK \n",
            "\n",
            "---\n",
            "\n",
            "Target: 1, Pred: 0.0, Prob: 0.07111931592226028\n",
            "Text:\n",
            " I Will Survive by Gloria Gaynor (with Oktaviana Devi) ÛÓ https://t.co/HUkJZ1wT36 \n",
            "\n",
            "---\n",
            "\n",
            "Target: 1, Pred: 0.0, Prob: 0.0683632493019104\n",
            "Text:\n",
            " @DavidVonderhaar At least you were sincere ?? \n",
            "\n",
            "---\n",
            "\n",
            "Target: 1, Pred: 0.0, Prob: 0.06828518956899643\n",
            "Text:\n",
            " Next May I'll be free...from school from obligations like family.... Best of all that damn curfew... \n",
            "\n",
            "---\n",
            "\n",
            "Target: 1, Pred: 0.0, Prob: 0.06182568520307541\n",
            "Text:\n",
            " @BoyInAHorsemask its a panda trapped in a dogs body \n",
            "\n",
            "---\n",
            "\n",
            "Target: 1, Pred: 0.0, Prob: 0.06164957955479622\n",
            "Text:\n",
            " going to redo my nails and watch behind the scenes of desolation of smaug ayyy \n",
            "\n",
            "---\n",
            "\n",
            "Target: 1, Pred: 0.0, Prob: 0.06137513369321823\n",
            "Text:\n",
            " 'The way you move is like a full on rainstorm and I'm a house of cards' \n",
            "\n",
            "---\n",
            "\n",
            "Target: 1, Pred: 0.0, Prob: 0.06027393415570259\n",
            "Text:\n",
            " @willienelson We need help! Horses will die!Please RT &amp; sign petition!Take a stand &amp; be a voice for them! #gilbert23 https://t.co/e8dl1lNCVu \n",
            "\n",
            "---\n",
            "\n",
            "Target: 1, Pred: 0.0, Prob: 0.05888279527425766\n",
            "Text:\n",
            " Lucas Duda is Ghost Rider. Not the Nic Cage version but an actual 'engulfed in flames' badass. #Mets \n",
            "\n",
            "---\n",
            "\n",
            "Target: 1, Pred: 0.0, Prob: 0.04832669347524643\n",
            "Text:\n",
            " You can never escape me. Bullets don't harm me. Nothing harms me. But I know pain. I know pain. Sometimes I share it. With someone like you. \n",
            "\n",
            "---\n",
            "\n",
            "Target: 1, Pred: 0.0, Prob: 0.04378608241677284\n",
            "Text:\n",
            " I get to smoke my shit in peace \n",
            "\n",
            "---\n",
            "\n",
            "Target: 1, Pred: 0.0, Prob: 0.04200369119644165\n",
            "Text:\n",
            " Reddit Will Now QuarantineÛ_ http://t.co/pkUAMXw6pm #onlinecommunities #reddit #amageddon #freespeech #Business http://t.co/PAWvNJ4sAP \n",
            "\n",
            "---\n",
            "\n",
            "Target: 1, Pred: 0.0, Prob: 0.03958044946193695\n",
            "Text:\n",
            " @SoonerMagic_ I mean I'm a fan but I don't need a girl sounding off like a damn siren \n",
            "\n",
            "---\n",
            "\n",
            "Target: 1, Pred: 0.0, Prob: 0.03589306026697159\n",
            "Text:\n",
            " Why are you deluged with low self-image? Take the quiz: http://t.co/XsPqdOrIqj http://t.co/CQYvFR4UCy \n",
            "\n",
            "---\n",
            "\n",
            "Target: 1, Pred: 0.0, Prob: 0.03330818563699722\n",
            "Text:\n",
            " Ron &amp; Fez - Dave's High School Crush https://t.co/aN3W16c8F6 via @YouTube \n",
            "\n",
            "---\n",
            "\n"
          ]
        }
      ]
    },
    {
      "cell_type": "markdown",
      "source": [
        "It seems like we had a couple of issues with our labeling, the most frequent wrong prediction occurs because the labeling isn't correct."
      ],
      "metadata": {
        "id": "3EZNT5EM2K8T"
      }
    },
    {
      "cell_type": "markdown",
      "source": [
        "### Making predictions on the test dataset"
      ],
      "metadata": {
        "id": "3yt--9d5v46f"
      }
    },
    {
      "cell_type": "code",
      "source": [
        "# Making predictions on the test dataset\n",
        "test_sentences = test_df[\"text\"].to_list()\n",
        "test_samples = random.sample(test_sentences, 10)\n",
        "for test_sample in test_samples:\n",
        "  pred_prob = tf.squeeze(model_6.predict([test_sample])) # has to be list\n",
        "  pred = tf.round(pred_prob)\n",
        "  print(f\"Pred: {int(pred)}, Prob: {pred_prob}\")\n",
        "  print(f\"Text:\\n{test_sample}\\n\")\n",
        "  print(\"----\\n\")"
      ],
      "metadata": {
        "colab": {
          "base_uri": "https://localhost:8080/"
        },
        "id": "lpt4XNd50NMz",
        "outputId": "23b6e8af-b2f1-46b9-99f2-054a909282e7"
      },
      "execution_count": 94,
      "outputs": [
        {
          "output_type": "stream",
          "name": "stdout",
          "text": [
            "1/1 [==============================] - 0s 51ms/step\n",
            "Pred: 1, Prob: 0.8488827347755432\n",
            "Text:\n",
            "Rainstorm downtown Gloucester\n",
            "#gloucester #capeann #seagulls #triciaoneill #triciaoneillphoto https://t.co/oLS6qdi9Um\n",
            "\n",
            "----\n",
            "\n",
            "1/1 [==============================] - 0s 39ms/step\n",
            "Pred: 0, Prob: 0.21186095476150513\n",
            "Text:\n",
            "? Cracker - White Riot ? http://t.co/Cc7D0wxk0M #nowplaying\n",
            "\n",
            "----\n",
            "\n",
            "1/1 [==============================] - 0s 39ms/step\n",
            "Pred: 0, Prob: 0.07202401757240295\n",
            "Text:\n",
            "Got in a car wreck. The car in front of me didn't put their blinker on :-))) but it really does feel great outside so lol\n",
            "\n",
            "----\n",
            "\n",
            "1/1 [==============================] - 0s 42ms/step\n",
            "Pred: 1, Prob: 0.8660120964050293\n",
            "Text:\n",
            "Sinkhole Disrupts Downtown Trolley Service #SanDiego - http://t.co/9tb82ZMr2X\n",
            "\n",
            "----\n",
            "\n",
            "1/1 [==============================] - 0s 40ms/step\n",
            "Pred: 0, Prob: 0.1166166365146637\n",
            "Text:\n",
            "@EBROINTHEAM jay....big L....pun....biggie...wrap over...zero question....fatality...flawless victory http://t.co/Y33QcKq7qD\n",
            "\n",
            "----\n",
            "\n",
            "1/1 [==============================] - 0s 40ms/step\n",
            "Pred: 1, Prob: 0.8706545829772949\n",
            "Text:\n",
            "illegal alien released by Obama/DHS 4 times Charged With Rape &amp; Murder of Santa Maria CA Woman Had Prior Offenses  http://t.co/MqP4hF9GpO\n",
            "\n",
            "----\n",
            "\n",
            "1/1 [==============================] - 0s 43ms/step\n",
            "Pred: 0, Prob: 0.10979257524013519\n",
            "Text:\n",
            "I'm setting myself up for disaster\n",
            "\n",
            "----\n",
            "\n",
            "1/1 [==============================] - 0s 40ms/step\n",
            "Pred: 1, Prob: 0.5192037224769592\n",
            "Text:\n",
            "@KingGerudo_ to the largest moblin's he'd leaving the biggest one for Red and fired. With one strike already the threat was reduced --&gt;\n",
            "\n",
            "----\n",
            "\n",
            "1/1 [==============================] - 0s 41ms/step\n",
            "Pred: 0, Prob: 0.40903031826019287\n",
            "Text:\n",
            "The president spoke of Kennedy's diplomacy to avert nuclear disaster during the Cold War to bolster his own pitch for Congress' approval\n",
            "\n",
            "----\n",
            "\n",
            "1/1 [==============================] - 0s 38ms/step\n",
            "Pred: 1, Prob: 0.9374401569366455\n",
            "Text:\n",
            "Dutch crane collapses demolishes houses: Dramatic eyewitness video captures the moment a Dutch crane hoisting... http://t.co/dYy7ml2NzJ\n",
            "\n",
            "----\n",
            "\n"
          ]
        }
      ]
    },
    {
      "cell_type": "markdown",
      "source": [
        "On the useen data our model seems mush better than his stats reflects, that is because sometimes a Tweet context is hard to figure out across himself."
      ],
      "metadata": {
        "id": "5TqT9_hR0Ubf"
      }
    },
    {
      "cell_type": "markdown",
      "source": [
        "# Predicting on Tweets from the jungle of twitter.\n",
        "How about we find some Tweets and use our model to predict whether or not they're about a diaster or not?"
      ],
      "metadata": {
        "id": "uthW5WxS360w"
      }
    },
    {
      "cell_type": "code",
      "source": [
        "# Turn the Tweet into string.\n",
        "mister_seitan_tweet = \"Forbidden to forget \\\"where it comes from\\\", because the tricksters will try to make people forget soon.\"\n",
        "juan_ramon_tweet = \"The second edition of Anti-Marx is already arriving in bookstores\"\n",
        "elon_musk_tweet = \"Something should be done\"\n",
        "elon_musk_tweet_2 = \"169 mT to orbit this year so far\"\n"
      ],
      "metadata": {
        "id": "ui9FIzWi4eyt"
      },
      "execution_count": 111,
      "outputs": []
    },
    {
      "cell_type": "code",
      "source": [
        "# Small fuction for taking our model and made a prediction \n",
        "def predict_on_sentences(model,sentence):\n",
        "  \"\"\"\n",
        "  Returns the sentences, the predicted label and the prediction probability\n",
        "  \"\"\"\n",
        "  pred_prob = model.predict([sentence])\n",
        "  pred_label = tf.squeeze(tf.round(pred_prob)).numpy()\n",
        "  print(f\"Pred: {pred_label}\", \"(real disaster)\" if pred_label > 0 else \"(not real disaster)\", f\"Prob: {pred_prob[0][0]}\")\n",
        "  print(f\"Text:\\n{sentence}\")"
      ],
      "metadata": {
        "id": "UcMpoEL5PRMU"
      },
      "execution_count": 100,
      "outputs": []
    },
    {
      "cell_type": "code",
      "source": [
        "# Make a prediction on our tweet\n",
        "predict_on_sentences(model=model_6, \n",
        "                     sentence=mister_seitan_tweet)\n",
        "\n",
        "predict_on_sentences(model=model_6,\n",
        "                     sentence=juan_ramon_tweet)\n",
        "\n",
        "predict_on_sentences(model=model_6,\n",
        "                     sentence=elon_musk_tweet)\n",
        "\n",
        "predict_on_sentences(model=model_6,\n",
        "                     sentence=elon_musk_tweet_2)\n"
      ],
      "metadata": {
        "colab": {
          "base_uri": "https://localhost:8080/"
        },
        "id": "femOujXtP324",
        "outputId": "9ee3cba4-f9d7-42d1-a152-1889687b2d2a"
      },
      "execution_count": 110,
      "outputs": [
        {
          "output_type": "stream",
          "name": "stdout",
          "text": [
            "1/1 [==============================] - 0s 39ms/step\n",
            "Pred: 0.0 (not real disaster) Prob: 0.11294422298669815\n",
            "Text:\n",
            "Forbidden to forget \"where it comes from\", because the tricksters will try to make people forget soon.\n",
            "1/1 [==============================] - 0s 46ms/step\n",
            "Pred: 0.0 (not real disaster) Prob: 0.07895895838737488\n",
            "Text:\n",
            "The second edition of Anti-Marx is already arriving in bookstores\n",
            "1/1 [==============================] - 0s 44ms/step\n",
            "Pred: 0.0 (not real disaster) Prob: 0.26078373193740845\n",
            "Text:\n",
            "Something should be done\n",
            "1/1 [==============================] - 0s 41ms/step\n",
            "Pred: 0.0 (not real disaster) Prob: 0.10574204474687576\n",
            "Text:\n",
            "169 mT to orbit this year so far\n"
          ]
        }
      ]
    },
    {
      "cell_type": "markdown",
      "source": [
        "Beautiful ! Our model predicte correctly 4 times a row!\n",
        "\n",
        "Now let's try with some disasters tweets"
      ],
      "metadata": {
        "id": "mvJaVWsXROyl"
      }
    },
    {
      "cell_type": "code",
      "source": [
        "# Source - https://twitter.com/BeirutCityGuide/status/1290696551376007168\n",
        "beirut_tweet_1 = \"Reports that the smoke in Beirut sky contains nitric acid, which is toxic. Please share and refrain from stepping outside unless urgent. #Lebanon\"\n",
        "\n",
        "# Source - https://twitter.com/BeirutCityGuide/status/1290773498743476224\n",
        "beirut_tweet_2 = \"#Beirut declared a “devastated city”, two-week state of emergency officially declared. #Lebanon\""
      ],
      "metadata": {
        "id": "l7TjiBMYSlPT"
      },
      "execution_count": 112,
      "outputs": []
    },
    {
      "cell_type": "code",
      "source": [
        "# Predict on diaster Tweet 1\n",
        "predict_on_sentences(model=model_6, \n",
        "                    sentence=beirut_tweet_1)\n",
        "\n",
        "# Predict on diaster Tweet 2\n",
        "predict_on_sentences(model=model_6, \n",
        "                    sentence=beirut_tweet_2)"
      ],
      "metadata": {
        "colab": {
          "base_uri": "https://localhost:8080/"
        },
        "id": "HGP2hwiMSoCD",
        "outputId": "d5398bbf-94cb-4828-c4a3-b8939fe33477"
      },
      "execution_count": 114,
      "outputs": [
        {
          "output_type": "stream",
          "name": "stdout",
          "text": [
            "1/1 [==============================] - 0s 72ms/step\n",
            "Pred: 1.0 (real disaster) Prob: 0.9609401822090149\n",
            "Text:\n",
            "Reports that the smoke in Beirut sky contains nitric acid, which is toxic. Please share and refrain from stepping outside unless urgent. #Lebanon\n",
            "1/1 [==============================] - 0s 73ms/step\n",
            "Pred: 1.0 (real disaster) Prob: 0.9706016182899475\n",
            "Text:\n",
            "#Beirut declared a “devastated city”, two-week state of emergency officially declared. #Lebanon\n"
          ]
        }
      ]
    },
    {
      "cell_type": "markdown",
      "source": [
        "Wubba lubba dub-dub, both results are correct!"
      ],
      "metadata": {
        "id": "UuXkf1STS4LT"
      }
    },
    {
      "cell_type": "markdown",
      "source": [
        "# Speed/score tradeoff of our project"
      ],
      "metadata": {
        "id": "j84_Lxis7R2m"
      }
    },
    {
      "cell_type": "code",
      "source": [
        "import time\n",
        "def pred_timer(model, samples):\n",
        "  \"\"\"\n",
        "  Times how long a model takes to make predictions on samples.\n",
        "  \"\"\"\n",
        "  start_time = time.perf_counter()\n",
        "  model.predict(samples)\n",
        "  end_time = time.perf_counter()\n",
        "  total_time = end_time-start_time\n",
        "  time_per_pred = total_time/len(samples)\n",
        "  return total_time, time_per_pred"
      ],
      "metadata": {
        "id": "a6uaUMpa6OFP"
      },
      "execution_count": 96,
      "outputs": []
    },
    {
      "cell_type": "code",
      "source": [
        "# Calculate TF Hub Sentence Enconder time per pred\n",
        "model_6_total_pred_time, model_6_time_per_pred = pred_timer(model=model_6,\n",
        "                                                            samples=val_sentences)\n",
        "model_6_total_pred_time, model_6_time_per_pred"
      ],
      "metadata": {
        "colab": {
          "base_uri": "https://localhost:8080/"
        },
        "id": "1L4O10XU6yap",
        "outputId": "87e93442-9e9b-4d0a-9cb8-433fd5d3f676"
      },
      "execution_count": 97,
      "outputs": [
        {
          "output_type": "stream",
          "name": "stdout",
          "text": [
            "24/24 [==============================] - 0s 10ms/step\n"
          ]
        },
        {
          "output_type": "execute_result",
          "data": {
            "text/plain": [
              "(0.3641844440001023, 0.00047793234120748336)"
            ]
          },
          "metadata": {},
          "execution_count": 97
        }
      ]
    },
    {
      "cell_type": "code",
      "source": [
        "# Calculate Naive Bayes prediction times\n",
        "baseline_total_pred_time, baseline_time_per_pred = pred_timer(model_0, val_sentences)\n",
        "baseline_total_pred_time, baseline_time_per_pred"
      ],
      "metadata": {
        "colab": {
          "base_uri": "https://localhost:8080/"
        },
        "id": "tUm3KBsi6xjA",
        "outputId": "e26f6cb4-6c36-4e56-c84a-1d514cdc92da"
      },
      "execution_count": 98,
      "outputs": [
        {
          "output_type": "execute_result",
          "data": {
            "text/plain": [
              "(0.05231427100011388, 6.865389895028068e-05)"
            ]
          },
          "metadata": {},
          "execution_count": 98
        }
      ]
    },
    {
      "cell_type": "code",
      "source": [
        "import matplotlib.pyplot as plt\n",
        "\n",
        "plt.figure(figsize=(10, 7))\n",
        "plt.scatter(baseline_time_per_pred, baseline_results[\"f1\"], label=\"baseline\")\n",
        "plt.scatter(model_6_time_per_pred, model_6_results[\"f1\"], label=\"tf_hub_sentence_encoder\")\n",
        "plt.legend()\n",
        "plt.title(\"F1-score versus time per prediction\")\n",
        "plt.xlabel(\"Time per prediction\")\n",
        "plt.ylabel(\"F1-Score\");"
      ],
      "metadata": {
        "colab": {
          "base_uri": "https://localhost:8080/",
          "height": 458
        },
        "id": "4CQjhd188o-S",
        "outputId": "ec552b19-2a3c-47f1-80b0-2bad416b990c"
      },
      "execution_count": 99,
      "outputs": [
        {
          "output_type": "display_data",
          "data": {
            "text/plain": [
              "<Figure size 720x504 with 1 Axes>"
            ],
            "image/png": "[encoded data removed]"
          },
          "metadata": {
            "needs_background": "light"
          }
        }
      ]
    }
  ]
}